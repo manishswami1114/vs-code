{
 "cells": [
  {
   "cell_type": "code",
   "execution_count": 1,
   "id": "f96351a4",
   "metadata": {},
   "outputs": [],
   "source": [
    "f=open(\"demof.txt\",\"w\")\n",
    "f.write(\"A\")\n",
    "f.write(\"B\")\n",
    "f.close()"
   ]
  },
  {
   "cell_type": "code",
   "execution_count": null,
   "id": "7b34eb2a",
   "metadata": {},
   "outputs": [],
   "source": []
  }
 ],
 "metadata": {
  "kernelspec": {
   "display_name": "Python 3 (ipykernel)",
   "language": "python",
   "name": "python3"
  },
  "language_info": {
   "codemirror_mode": {
    "name": "ipython",
    "version": 3
   },
   "file_extension": ".py",
   "mimetype": "text/x-python",
   "name": "python",
   "nbconvert_exporter": "python",
   "pygments_lexer": "ipython3",
   "version": "3.10.0"
  }
 },
 "nbformat": 4,
 "nbformat_minor": 5
}
