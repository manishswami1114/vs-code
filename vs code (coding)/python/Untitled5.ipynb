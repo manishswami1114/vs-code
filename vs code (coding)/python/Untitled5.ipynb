{
 "cells": [
  {
   "cell_type": "code",
   "execution_count": 5,
   "id": "0641611d",
   "metadata": {},
   "outputs": [
    {
     "name": "stdout",
     "output_type": "stream",
     "text": [
      "1\n",
      "3\n",
      "6 2 4\n",
      "3\n",
      "4 5 3\n",
      "<list_reverseiterator object at 0x0000029B5C259160>\n"
     ]
    }
   ],
   "source": [
    "def findArraySum(arr1, n, arr2, m):\n",
    "    ans = list()\n",
    "    carry = 0\n",
    "    sum = 0\n",
    "    i = n - 1\n",
    "    j = m - 1\n",
    " \n",
    "    while i >= 0 or j >= 0:\n",
    "        sum = 0\n",
    "        # If we have some elements left in the first array, then add it to the sum.\n",
    "        if i >= 0:\n",
    "            sum += arr1[i]\n",
    "            i -= 1\n",
    "\n",
    "        # If we have some elements left in the second array, then add it to the sum.\n",
    "        if j >= 0:\n",
    "            sum += arr2[j]\n",
    "            j -= 1\n",
    "\n",
    "        sum += carry\n",
    "        lastDigit = sum % 10\n",
    "        carry = sum // 10\n",
    "        ans.append(lastDigit)\n",
    "\n",
    "    # If still some carry is left, then push it to the answer.\n",
    "    if carry:\n",
    "        ans.append(carry)\n",
    "\n",
    "    ans = reversed(ans)\n",
    "    return ans\n",
    "\n",
    "t=int(input())\n",
    "while t!=0:\n",
    "    n=int(input())    \n",
    "    arr1=[int(x) for x in input().split()]\n",
    "    m=int(input())  \n",
    "    arr2=[int(x) for x in input().split()]\n",
    "    findArraySum(arr1,n,arr2,m)\n",
    "    ans=findArraySum(arr1,n,arr2,m)\n",
    "    print(ans)\n",
    "    t=t-1\n",
    "\n"
   ]
  },
  {
   "cell_type": "code",
   "execution_count": 6,
   "id": "88d23715",
   "metadata": {},
   "outputs": [
    {
     "name": "stdout",
     "output_type": "stream",
     "text": [
      "1\n",
      "3\n",
      "4 3 5\n",
      "3\n",
      "3 4 5\n",
      "<function sum_two_array at 0x0000029B5C37E3A0>\n"
     ]
    }
   ],
   "source": [
    "def sum_two_array(L1, L2):\n",
    "    carry, total = 0, 0\n",
    "    m, n = len(L1), len(L2)\n",
    "    k   = max(m, n)\n",
    "    \n",
    "    result = [0] + [0] * k  # add +1 \n",
    "\n",
    "    for i in range(1, k+1):\n",
    "        a = L1[m-i] if m - i >= 0 else 0\n",
    "        b = L2[n-i] if n - i >= 0 else 0\n",
    "     \n",
    "        total = a + b + carry\n",
    "        result[k-i + 1] = total % 10\n",
    "        carry = total // 10\n",
    "    \n",
    "    if carry > 0: result[0] = carry\n",
    "    \n",
    "    return result if result[0] != 0 else result[1:]\n",
    "\n",
    "\n",
    "t=int(input())\n",
    "while t!=0:\n",
    "    n=int(input())    \n",
    "    L1=[int(x) for x in input().split()]\n",
    "    m=int(input())  \n",
    "    L2=[int(x) for x in input().split()]\n",
    "    sum_two_array(L1, L2)\n",
    "    print(sum_two_array)\n",
    "    t=t-1"
   ]
  },
  {
   "cell_type": "code",
   "execution_count": 7,
   "id": "01495fb4",
   "metadata": {},
   "outputs": [
    {
     "name": "stdout",
     "output_type": "stream",
     "text": [
      "<class 'tuple'>\n"
     ]
    }
   ],
   "source": [
    "t=()\n",
    "print(type(t))"
   ]
  },
  {
   "cell_type": "code",
   "execution_count": 8,
   "id": "382e7dfb",
   "metadata": {},
   "outputs": [
    {
     "ename": "TypeError",
     "evalue": "'tuple' object does not support item assignment",
     "output_type": "error",
     "traceback": [
      "\u001b[1;31m---------------------------------------------------------------------------\u001b[0m",
      "\u001b[1;31mTypeError\u001b[0m                                 Traceback (most recent call last)",
      "\u001b[1;32m~\\AppData\\Local\\Temp/ipykernel_2212/2438559452.py\u001b[0m in \u001b[0;36m<module>\u001b[1;34m\u001b[0m\n\u001b[0;32m      1\u001b[0m \u001b[0ma\u001b[0m \u001b[1;33m=\u001b[0m \u001b[1;36m5\u001b[0m\u001b[1;33m,\u001b[0m\u001b[1;36m6\u001b[0m\u001b[1;33m,\u001b[0m\u001b[1;36m7\u001b[0m\u001b[1;33m\u001b[0m\u001b[1;33m\u001b[0m\u001b[0m\n\u001b[1;32m----> 2\u001b[1;33m \u001b[0ma\u001b[0m\u001b[1;33m[\u001b[0m\u001b[1;36m2\u001b[0m\u001b[1;33m]\u001b[0m \u001b[1;33m=\u001b[0m \u001b[1;36m9\u001b[0m\u001b[1;33m\u001b[0m\u001b[1;33m\u001b[0m\u001b[0m\n\u001b[0m\u001b[0;32m      3\u001b[0m \u001b[0mprint\u001b[0m\u001b[1;33m(\u001b[0m\u001b[0ma\u001b[0m\u001b[1;33m)\u001b[0m\u001b[1;33m\u001b[0m\u001b[1;33m\u001b[0m\u001b[0m\n",
      "\u001b[1;31mTypeError\u001b[0m: 'tuple' object does not support item assignment"
     ]
    }
   ],
   "source": [
    "a = 5,6,7\n",
    "a[2] = 9 \n",
    "print(a)"
   ]
  },
  {
   "cell_type": "code",
   "execution_count": 32,
   "id": "5a7a0f29",
   "metadata": {},
   "outputs": [
    {
     "name": "stdout",
     "output_type": "stream",
     "text": [
      "A\n"
     ]
    }
   ],
   "source": [
    "a = 1,2\n",
    "b = (\"A\",\"B\")\n",
    "d = a+b\n",
    "print(d[2])"
   ]
  },
  {
   "cell_type": "code",
   "execution_count": 11,
   "id": "05ac24ba",
   "metadata": {},
   "outputs": [
    {
     "ename": "AttributeError",
     "evalue": "'dict' object has no attribute 'add'",
     "output_type": "error",
     "traceback": [
      "\u001b[1;31m---------------------------------------------------------------------------\u001b[0m",
      "\u001b[1;31mAttributeError\u001b[0m                            Traceback (most recent call last)",
      "\u001b[1;32m~\\AppData\\Local\\Temp/ipykernel_2212/3195806417.py\u001b[0m in \u001b[0;36m<module>\u001b[1;34m\u001b[0m\n\u001b[0;32m      1\u001b[0m \u001b[0ms\u001b[0m \u001b[1;33m=\u001b[0m \u001b[1;33m{\u001b[0m\u001b[1;33m}\u001b[0m\u001b[1;33m\u001b[0m\u001b[1;33m\u001b[0m\u001b[0m\n\u001b[1;32m----> 2\u001b[1;33m \u001b[0ms\u001b[0m\u001b[1;33m.\u001b[0m\u001b[0madd\u001b[0m\u001b[1;33m(\u001b[0m\u001b[1;36m4\u001b[0m\u001b[1;33m)\u001b[0m\u001b[1;33m\u001b[0m\u001b[1;33m\u001b[0m\u001b[0m\n\u001b[0m\u001b[0;32m      3\u001b[0m \u001b[0ms\u001b[0m\u001b[1;33m.\u001b[0m\u001b[0madd\u001b[0m\u001b[1;33m(\u001b[0m\u001b[1;36m4\u001b[0m\u001b[1;33m)\u001b[0m\u001b[1;33m\u001b[0m\u001b[1;33m\u001b[0m\u001b[0m\n\u001b[0;32m      4\u001b[0m \u001b[0mprint\u001b[0m\u001b[1;33m(\u001b[0m\u001b[0mlen\u001b[0m\u001b[1;33m(\u001b[0m\u001b[0ms\u001b[0m\u001b[1;33m)\u001b[0m\u001b[1;33m)\u001b[0m\u001b[1;33m\u001b[0m\u001b[1;33m\u001b[0m\u001b[0m\n",
      "\u001b[1;31mAttributeError\u001b[0m: 'dict' object has no attribute 'add'"
     ]
    }
   ],
   "source": [
    "s = {}\n",
    "s.add(4)\n",
    "s.add(4)\n",
    "print(len(s))"
   ]
  },
  {
   "cell_type": "code",
   "execution_count": 12,
   "id": "2b95b112",
   "metadata": {},
   "outputs": [
    {
     "ename": "SyntaxError",
     "evalue": "invalid character '“' (U+201C) (Temp/ipykernel_2212/2866357601.py, line 2)",
     "output_type": "error",
     "traceback": [
      "\u001b[1;36m  File \u001b[1;32m\"C:\\Users\\HP\\AppData\\Local\\Temp/ipykernel_2212/2866357601.py\"\u001b[1;36m, line \u001b[1;32m2\u001b[0m\n\u001b[1;33m    print(len(s),end= “ “)\u001b[0m\n\u001b[1;37m                      ^\u001b[0m\n\u001b[1;31mSyntaxError\u001b[0m\u001b[1;31m:\u001b[0m invalid character '“' (U+201C)\n"
     ]
    }
   ],
   "source": [
    "s = {1,2,3,5,4,2,3,1}\n",
    "print(len(s),end= “ “)\n",
    "s.add(4)\n",
    "s.add(3)\n",
    "print(len(s))"
   ]
  },
  {
   "cell_type": "code",
   "execution_count": 13,
   "id": "88b3a136",
   "metadata": {},
   "outputs": [
    {
     "ename": "SyntaxError",
     "evalue": "invalid character '’' (U+2019) (Temp/ipykernel_2212/1191058206.py, line 1)",
     "output_type": "error",
     "traceback": [
      "\u001b[1;36m  File \u001b[1;32m\"C:\\Users\\HP\\AppData\\Local\\Temp/ipykernel_2212/1191058206.py\"\u001b[1;36m, line \u001b[1;32m1\u001b[0m\n\u001b[1;33m    a = {1:2,’list’:[1,2],3:5}\u001b[0m\n\u001b[1;37m             ^\u001b[0m\n\u001b[1;31mSyntaxError\u001b[0m\u001b[1;31m:\u001b[0m invalid character '’' (U+2019)\n"
     ]
    }
   ],
   "source": [
    "a = {1:2,’list’:[1,2],3:5}\n",
    "a.pop(‘list’)\n",
    "a[‘list’] = [3,5]\n",
    "print(a[‘list’])"
   ]
  },
  {
   "cell_type": "code",
   "execution_count": 14,
   "id": "e22bdad4",
   "metadata": {},
   "outputs": [
    {
     "ename": "SyntaxError",
     "evalue": "invalid character '’' (U+2019) (Temp/ipykernel_2212/2208354596.py, line 1)",
     "output_type": "error",
     "traceback": [
      "\u001b[1;36m  File \u001b[1;32m\"C:\\Users\\HP\\AppData\\Local\\Temp/ipykernel_2212/2208354596.py\"\u001b[1;36m, line \u001b[1;32m1\u001b[0m\n\u001b[1;33m    a = {1:2,’list’:[1,2],3:5}\u001b[0m\n\u001b[1;37m             ^\u001b[0m\n\u001b[1;31mSyntaxError\u001b[0m\u001b[1;31m:\u001b[0m invalid character '’' (U+2019)\n"
     ]
    }
   ],
   "source": [
    "a = {1:2,’list’:[1,2],3:5}\n",
    "b = {4:5,3:7}\n",
    "a.update(b)\n",
    "print(a[3])"
   ]
  },
  {
   "cell_type": "code",
   "execution_count": 15,
   "id": "44840a07",
   "metadata": {},
   "outputs": [
    {
     "ename": "SyntaxError",
     "evalue": "invalid character '“' (U+201C) (Temp/ipykernel_2212/366589657.py, line 1)",
     "output_type": "error",
     "traceback": [
      "\u001b[1;36m  File \u001b[1;32m\"C:\\Users\\HP\\AppData\\Local\\Temp/ipykernel_2212/366589657.py\"\u001b[1;36m, line \u001b[1;32m1\u001b[0m\n\u001b[1;33m    d = {1:2, “abc”:5, “def”:7}\u001b[0m\n\u001b[1;37m              ^\u001b[0m\n\u001b[1;31mSyntaxError\u001b[0m\u001b[1;31m:\u001b[0m invalid character '“' (U+201C)\n"
     ]
    }
   ],
   "source": [
    "d = {1:2, “abc”:5, “def”:7}\n",
    "if 2 in d:\n",
    "    print(‘Present’)\n",
    "else:\n",
    "    print(‘Not Present’)"
   ]
  },
  {
   "cell_type": "code",
   "execution_count": 31,
   "id": "b543f940",
   "metadata": {},
   "outputs": [
    {
     "name": "stdout",
     "output_type": "stream",
     "text": [
      "(33, 44, 55, 66, 77, 88)\n",
      "(11, 22, 33, 44)\n",
      "(55, 66, 77, 88, 99)\n",
      "(55, 66, 77, 88)\n",
      "True\n",
      "False\n",
      "False\n",
      "True\n"
     ]
    }
   ],
   "source": [
    "my_data = (11, 22, 33, 44, 55, 66, 77, 88, 99)\n",
    "print(my_data[2:-1])\n",
    "print(my_data[:4])\n",
    "print(my_data[4:])\n",
    "print(my_data[4:-1])\n",
    "print(22 in my_data)\n",
    "print(2 in my_data)\n",
    "print(88 not in my_data)\n",
    "print(101 not in my_data)\n"
   ]
  },
  {
   "cell_type": "code",
   "execution_count": 33,
   "id": "83f5d11e",
   "metadata": {},
   "outputs": [
    {
     "name": "stdout",
     "output_type": "stream",
     "text": [
      "{'StuName': 'Ajeet', 'StuAge': 30, 'StuCity': 'Agra'}\n",
      "Student Age is: 30\n",
      "Student City is: Agra\n",
      "Student Age is: 31\n",
      "Student City is: Noida\n",
      "Student Name is: Ajeet\n",
      "Student Class is: Post Grad MBA\n",
      "Student Age is: 31\n",
      "Student City is: Noida\n"
     ]
    }
   ],
   "source": [
    "mydict = {'StuName': 'Ajeet', 'StuAge': 30, 'StuCity': 'Agra'}\n",
    "print(mydict)\n",
    "\n",
    "print(\"Student Age is:\", mydict['StuAge'])\n",
    "print(\"Student City is:\", mydict['StuCity'])\n",
    "\n",
    "mydict['StuAge'] = 31\n",
    "mydict['StuCity'] = 'Noida'\n",
    "print(\"Student Age is:\", mydict['StuAge'])\n",
    "print(\"Student City is:\", mydict['StuCity'])\n",
    "\n",
    "mydict['StuClass'] = 'Post Grad MBA'\n",
    "print(\"Student Name is:\", mydict['StuName'])\n",
    "print(\"Student Class is:\", mydict['StuClass'])\n",
    "print(\"Student Age is:\", mydict['StuAge'])\n",
    "print(\"Student City is:\", mydict['StuCity'])\n"
   ]
  },
  {
   "cell_type": "code",
   "execution_count": 36,
   "id": "4746e5ce",
   "metadata": {},
   "outputs": [
    {
     "name": "stdout",
     "output_type": "stream",
     "text": [
      "{'a': 10, 'b': 20, 'c': 30}\n",
      "{'a': 10, 'b': 20}\n",
      "{'a': 10}\n"
     ]
    }
   ],
   "source": [
    "d={'a':10,'b':20,'c':30}\n",
    "\n",
    "print(d)\n",
    "d.pop('c')\n",
    "print(d)\n",
    "d.pop('b')\n",
    "print(d)"
   ]
  },
  {
   "cell_type": "code",
   "execution_count": 40,
   "id": "74b90635",
   "metadata": {},
   "outputs": [
    {
     "name": "stdout",
     "output_type": "stream",
     "text": [
      "('c', 30)\n",
      "{'a': 10, 'b': 20}\n",
      "{'a': 10}\n"
     ]
    }
   ],
   "source": [
    "d={'a':10,'b':20,'c':30}\n",
    "\n",
    "print(d.popitem())\n",
    "print(d)\n",
    "d.pop('b')\n",
    "print(d)"
   ]
  },
  {
   "cell_type": "code",
   "execution_count": 41,
   "id": "af9c1c6e",
   "metadata": {},
   "outputs": [
    {
     "name": "stdout",
     "output_type": "stream",
     "text": [
      "{'a', 'b', 'c'}\n"
     ]
    }
   ],
   "source": [
    "empty=set(['a','b','c','a'])\n",
    "print(empty)"
   ]
  }
 ],
 "metadata": {
  "kernelspec": {
   "display_name": "Python 3 (ipykernel)",
   "language": "python",
   "name": "python3"
  },
  "language_info": {
   "codemirror_mode": {
    "name": "ipython",
    "version": 3
   },
   "file_extension": ".py",
   "mimetype": "text/x-python",
   "name": "python",
   "nbconvert_exporter": "python",
   "pygments_lexer": "ipython3",
   "version": "3.9.7"
  }
 },
 "nbformat": 4,
 "nbformat_minor": 5
}
