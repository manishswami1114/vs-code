{
 "cells": [
  {
   "cell_type": "code",
   "execution_count": 9,
   "id": "65185e61",
   "metadata": {},
   "outputs": [
    {
     "name": "stdout",
     "output_type": "stream",
     "text": [
      "<class 'tuple'>\n",
      "(1, 2)\n"
     ]
    }
   ],
   "source": [
    "\n",
    "\n",
    "\n",
    "t=()\n",
    "t=(1,2)\n",
    "print(type(t))\n",
    "print(t)"
   ]
  },
  {
   "cell_type": "code",
   "execution_count": 10,
   "id": "5caa9a03",
   "metadata": {},
   "outputs": [
    {
     "name": "stdout",
     "output_type": "stream",
     "text": [
      "<class 'int'>\n",
      "2\n"
     ]
    }
   ],
   "source": [
    "t=(2)\n",
    "print(type(t))\n",
    "print(t)"
   ]
  },
  {
   "cell_type": "code",
   "execution_count": 11,
   "id": "a2236b13",
   "metadata": {},
   "outputs": [
    {
     "name": "stdout",
     "output_type": "stream",
     "text": [
      "<class 'tuple'>\n",
      "(2,)\n"
     ]
    }
   ],
   "source": [
    "t=(2,)\n",
    "print(type(t))\n",
    "print(t)"
   ]
  },
  {
   "cell_type": "code",
   "execution_count": 15,
   "id": "8f40dd80",
   "metadata": {},
   "outputs": [
    {
     "name": "stdout",
     "output_type": "stream",
     "text": [
      "(1, 2, 3)\n",
      "<class 'tuple'>\n",
      "2\n",
      "1\n",
      "3\n"
     ]
    }
   ],
   "source": [
    "t=1,2,3\n",
    "print(t)\n",
    "print(type(t))\n",
    "print(t[-2])\n",
    "print(t[0])\n",
    "print(t[-1])\n",
    "##print(t(-2)) not callable"
   ]
  },
  {
   "cell_type": "code",
   "execution_count": 23,
   "id": "85062642",
   "metadata": {},
   "outputs": [
    {
     "name": "stdout",
     "output_type": "stream",
     "text": [
      "abc\n",
      "cde\n",
      "esw\n",
      "abc\n",
      "('abc', 'cde') esw\n"
     ]
    }
   ],
   "source": [
    "t='abc','cde','esw'\n",
    "s1,s2,s3=t\n",
    "t1=s1,s2\n",
    "t2=s3\n",
    "print(s1)\n",
    "print(s2)\n",
    "print(s3)\n",
    "print(s1)\n",
    "print(t1,t2)"
   ]
  },
  {
   "cell_type": "code",
   "execution_count": 30,
   "id": "a9d69e2d",
   "metadata": {},
   "outputs": [
    {
     "name": "stdout",
     "output_type": "stream",
     "text": [
      "10\n",
      "(20,)\n",
      "(20,)\n"
     ]
    }
   ],
   "source": [
    "t=10,20,30,40\n",
    "###t[1]=100\n",
    "print(t[0])\n",
    "print(t[1:2])\n",
    "print(t[1::3])"
   ]
  },
  {
   "cell_type": "code",
   "execution_count": 37,
   "id": "48d00a9f",
   "metadata": {},
   "outputs": [
    {
     "name": "stdout",
     "output_type": "stream",
     "text": [
      "1\n",
      "steave\n",
      "(1, 'steave')\n",
      "s\n",
      "e\n",
      "e\n",
      "t\n",
      "(1, 'steave', (11, 22, 33))\n"
     ]
    }
   ],
   "source": [
    "my_data = (1,\"steave\", (11,22,33))\n",
    "print(my_data[0])\n",
    "print(my_data[1])\n",
    "print(my_data[:2])\n",
    "print(my_data[1][0])\n",
    "print(my_data[1][-1])\n",
    "print(my_data[1][-4])\n",
    "print(my_data[1][-5])\n",
    "###del my_data\n",
    "print(my_data)"
   ]
  },
  {
   "cell_type": "code",
   "execution_count": 45,
   "id": "2e5bfd2c",
   "metadata": {},
   "outputs": [
    {
     "name": "stdout",
     "output_type": "stream",
     "text": [
      "False\n",
      "False\n",
      "True\n",
      "False\n",
      "11\n",
      "(22, 33, 44, 55, 66, 77, 88, 99)\n"
     ]
    }
   ],
   "source": [
    "my_data=(11,22,33,44,55,66,77,88,99,23,45,67,89)\n",
    "print(2 in my_data)\n",
    "print(10 in my_data)\n",
    "print(88 in my_data)\n",
    "print(88 not in my_data)\n",
    "print(my_data[0])\n",
    "print(my_data[1:-4])"
   ]
  },
  {
   "cell_type": "code",
   "execution_count": 47,
   "id": "df5708d9",
   "metadata": {},
   "outputs": [
    {
     "name": "stdout",
     "output_type": "stream",
     "text": [
      "apple\n",
      "orange\n",
      "grapes\n",
      "banana\n"
     ]
    }
   ],
   "source": [
    "my_tuple=(\"apple\", \"orange\", \"grapes\", \"banana\")\n",
    "\n",
    "for fruit in my_tuple:\n",
    "    print(fruit)"
   ]
  },
  {
   "cell_type": "code",
   "execution_count": 52,
   "id": "753554a5",
   "metadata": {},
   "outputs": [
    {
     "name": "stdout",
     "output_type": "stream",
     "text": [
      "A\n",
      "(1, 2, 'A', 'B')\n",
      "1\n",
      "2\n",
      "A\n",
      "B\n"
     ]
    }
   ],
   "source": [
    "A=1,2\n",
    "B=\"A\",\"B\"\n",
    "d=A+B\n",
    "print(d[2])\n",
    "print(d)\n",
    "for f in d:\n",
    "    print(f)"
   ]
  },
  {
   "cell_type": "code",
   "execution_count": 69,
   "id": "326ea846",
   "metadata": {},
   "outputs": [
    {
     "name": "stdout",
     "output_type": "stream",
     "text": [
      "6\n",
      "(4, 5, 6)\n",
      "24\n",
      "120\n",
      "720\n",
      "720\n"
     ]
    }
   ],
   "source": [
    "def multiply(a,b,c,*d):\n",
    "    value=a*b*c\n",
    "    print(value)\n",
    "    print(d)\n",
    "    for i in d:\n",
    "        value=value*i\n",
    "        print(value)\n",
    "    return value\n",
    "v= multiply(1,2,3,4,5,6)\n",
    "print(v)"
   ]
  },
  {
   "cell_type": "code",
   "execution_count": 71,
   "id": "92274b98",
   "metadata": {},
   "outputs": [
    {
     "name": "stdout",
     "output_type": "stream",
     "text": [
      "22276502131550632001334457891238707200000\n"
     ]
    }
   ],
   "source": [
    "def multiply(a,b,c,*m):\n",
    "    value=a*b*c\n",
    "    for i in m:\n",
    "        value= value*i\n",
    "        \n",
    "    return value\n",
    "v= multiply(1,2,3,4,5,6,23,45,32,2,3,4,5,5,67,56,78,456,334,22,344,334,55,678,679,443,22,56)\n",
    "print(v)"
   ]
  },
  {
   "cell_type": "code",
   "execution_count": 31,
   "id": "7f8bef55",
   "metadata": {},
   "outputs": [
    {
     "name": "stdout",
     "output_type": "stream",
     "text": [
      "{'stuname': 'manish', 'stuage': 30, 'stucity': 'agra'}\n",
      "student age is: 30\n",
      "student age is: 28\n",
      "student name is: manish\n",
      "student city is: agra\n",
      "student city is: agra\n",
      "student class is: post MBA\n",
      "{'stuname': 'manish', 'stucity': 'agra', 'stuclass': 'post MBA'}\n",
      "{}\n"
     ]
    },
    {
     "ename": "NameError",
     "evalue": "name 'mydict' is not defined",
     "output_type": "error",
     "traceback": [
      "\u001b[1;31m---------------------------------------------------------------------------\u001b[0m",
      "\u001b[1;31mNameError\u001b[0m                                 Traceback (most recent call last)",
      "\u001b[1;32m~\\AppData\\Local\\Temp/ipykernel_1540/3665824801.py\u001b[0m in \u001b[0;36m<module>\u001b[1;34m\u001b[0m\n\u001b[0;32m     14\u001b[0m \u001b[0mprint\u001b[0m\u001b[1;33m(\u001b[0m\u001b[0mmydict\u001b[0m\u001b[1;33m)\u001b[0m\u001b[1;33m\u001b[0m\u001b[1;33m\u001b[0m\u001b[0m\n\u001b[0;32m     15\u001b[0m \u001b[1;32mdel\u001b[0m \u001b[0mmydict\u001b[0m\u001b[1;33m;\u001b[0m  \u001b[1;31m# delete entire di\u001b[0m\u001b[1;33m\u001b[0m\u001b[1;33m\u001b[0m\u001b[0m\n\u001b[1;32m---> 16\u001b[1;33m \u001b[0mprint\u001b[0m\u001b[1;33m(\u001b[0m\u001b[0mmydict\u001b[0m\u001b[1;33m)\u001b[0m\u001b[1;33m\u001b[0m\u001b[1;33m\u001b[0m\u001b[0m\n\u001b[0m",
      "\u001b[1;31mNameError\u001b[0m: name 'mydict' is not defined"
     ]
    }
   ],
   "source": [
    "mydict={'stuname':'manish','stuage':30,'stucity':'agra'}\n",
    "print(mydict)\n",
    "print(\"student age is:\", mydict['stuage'])\n",
    "mydict['stuage']=28\n",
    "print(\"student age is:\", mydict['stuage'])\n",
    "print(\"student name is:\", mydict['stuname'])\n",
    "print(\"student city is:\", mydict['stucity'])\n",
    "mydict['stuclass']= 'post MBA'\n",
    "print(\"student city is:\", mydict['stucity'])\n",
    "print(\"student class is:\", mydict['stuclass'])\n",
    "del mydict['stuage']  ##remove entry with key 'stuage'\n",
    "print(mydict)\n",
    "mydict.clear();    ##remove all key value pairs from mydict\n",
    "print(mydict)\n",
    "del mydict;  # delete entire di\n",
    "print(mydict)"
   ]
  },
  {
   "cell_type": "code",
   "execution_count": 16,
   "id": "fea098d0",
   "metadata": {},
   "outputs": [
    {
     "name": "stdout",
     "output_type": "stream",
     "text": [
      "20\n",
      "{'a': 10, 'c': 30}\n",
      "dict_items([('a', 10), ('c', 30)])\n",
      "[('a', 10), ('c', 30)]\n"
     ]
    }
   ],
   "source": [
    "d={'a':10,'b':20,'c':30}\n",
    "print(d.pop(\"b\"))\n",
    "print(d)\n",
    "print(d.items())\n",
    "\n",
    "print(list(d.items()))"
   ]
  },
  {
   "cell_type": "code",
   "execution_count": 9,
   "id": "d5d38bcc",
   "metadata": {},
   "outputs": [
    {
     "name": "stdout",
     "output_type": "stream",
     "text": [
      "('c', 30)\n",
      "{'a': 10, 'b': 20}\n"
     ]
    }
   ],
   "source": [
    "d={1:10,'b':20,'c':30}\n",
    "print(d.popitem())\n",
    "print(d)"
   ]
  },
  {
   "cell_type": "code",
   "execution_count": 10,
   "id": "b9929a12",
   "metadata": {},
   "outputs": [
    {
     "name": "stdout",
     "output_type": "stream",
     "text": [
      "20\n"
     ]
    }
   ],
   "source": [
    "d={1:10,'b':20,'c':30}\n",
    "print(d['b'])"
   ]
  },
  {
   "cell_type": "code",
   "execution_count": 12,
   "id": "67a53261",
   "metadata": {},
   "outputs": [
    {
     "name": "stdout",
     "output_type": "stream",
     "text": [
      "10\n"
     ]
    }
   ],
   "source": [
    "d={1:10,'b':20,'c':30}\n",
    "print(d.get(1,20))"
   ]
  },
  {
   "cell_type": "code",
   "execution_count": 22,
   "id": "dded4e5d",
   "metadata": {},
   "outputs": [
    {
     "name": "stdout",
     "output_type": "stream",
     "text": [
      "{1: 2, 'list': [1, 2], 3: 7, 4: 5}\n",
      "[1, 2]\n"
     ]
    }
   ],
   "source": [
    "a={1:2,'list':[1,2],3:5}\n",
    "b={4:5,3:7}\n",
    "a.update(b)\n",
    "print(a)\n",
    "print(a['list'])"
   ]
  },
  {
   "cell_type": "code",
   "execution_count": 25,
   "id": "67befe99",
   "metadata": {},
   "outputs": [
    {
     "name": "stdout",
     "output_type": "stream",
     "text": [
      "{1: 10, 'b': 200, 'c': 30, 'e': 300}\n"
     ]
    }
   ],
   "source": [
    "d={1:10,'b':20,'c':30}\n",
    "d1={'b':200,'e':300}\n",
    "d.update(d1)\n",
    "print(d)"
   ]
  },
  {
   "cell_type": "code",
   "execution_count": 28,
   "id": "812426c0",
   "metadata": {},
   "outputs": [
    {
     "name": "stdout",
     "output_type": "stream",
     "text": [
      "{1: 2, 3: 5}\n"
     ]
    }
   ],
   "source": [
    "a = {1:2,'list':[1,2],3:5}\n",
    "a.pop('list')\n",
    "print(a)\n"
   ]
  },
  {
   "cell_type": "code",
   "execution_count": 30,
   "id": "a38502af",
   "metadata": {},
   "outputs": [
    {
     "name": "stdout",
     "output_type": "stream",
     "text": [
      "[3, 5]\n"
     ]
    }
   ],
   "source": [
    "a = {1:2,'list':[1,2],3:5}\n",
    "a.pop('list')\n",
    "a['list'] = [3,5]\n",
    "print(a['list'])"
   ]
  },
  {
   "cell_type": "code",
   "execution_count": 48,
   "id": "69b76927",
   "metadata": {},
   "outputs": [
    {
     "name": "stdout",
     "output_type": "stream",
     "text": [
      "5\n",
      "{1, 2, 3, 4, 5}\n",
      "5\n"
     ]
    }
   ],
   "source": [
    "s = {1,2,4,5,4,2,3,1}\n",
    "print(len(s))\n",
    "s.add(4)\n",
    "print(s)\n",
    "print(len(s))"
   ]
  },
  {
   "cell_type": "code",
   "execution_count": 49,
   "id": "2af29806",
   "metadata": {},
   "outputs": [
    {
     "ename": "AttributeError",
     "evalue": "'dict' object has no attribute 'add'",
     "output_type": "error",
     "traceback": [
      "\u001b[1;31m---------------------------------------------------------------------------\u001b[0m",
      "\u001b[1;31mAttributeError\u001b[0m                            Traceback (most recent call last)",
      "\u001b[1;32m~\\AppData\\Local\\Temp/ipykernel_1540/2554312856.py\u001b[0m in \u001b[0;36m<module>\u001b[1;34m\u001b[0m\n\u001b[0;32m      1\u001b[0m \u001b[0ms\u001b[0m \u001b[1;33m=\u001b[0m \u001b[1;33m{\u001b[0m\u001b[1;33m}\u001b[0m\u001b[1;33m\u001b[0m\u001b[1;33m\u001b[0m\u001b[0m\n\u001b[1;32m----> 2\u001b[1;33m \u001b[0ms\u001b[0m\u001b[1;33m.\u001b[0m\u001b[0madd\u001b[0m\u001b[1;33m[\u001b[0m\u001b[1;36m4\u001b[0m\u001b[1;33m]\u001b[0m\u001b[1;33m\u001b[0m\u001b[1;33m\u001b[0m\u001b[0m\n\u001b[0m\u001b[0;32m      3\u001b[0m \u001b[1;31m#s.add(4)\u001b[0m\u001b[1;33m\u001b[0m\u001b[1;33m\u001b[0m\u001b[0m\n\u001b[0;32m      4\u001b[0m \u001b[0mprint\u001b[0m\u001b[1;33m(\u001b[0m\u001b[0mlen\u001b[0m\u001b[1;33m(\u001b[0m\u001b[0ms\u001b[0m\u001b[1;33m)\u001b[0m\u001b[1;33m)\u001b[0m\u001b[1;33m\u001b[0m\u001b[1;33m\u001b[0m\u001b[0m\n",
      "\u001b[1;31mAttributeError\u001b[0m: 'dict' object has no attribute 'add'"
     ]
    }
   ],
   "source": []
  },
  {
   "cell_type": "code",
   "execution_count": 51,
   "id": "80d6b072",
   "metadata": {},
   "outputs": [
    {
     "name": "stdout",
     "output_type": "stream",
     "text": [
      "3\n",
      "7\n"
     ]
    },
    {
     "ename": "TypeError",
     "evalue": "not all arguments converted during string formatting",
     "output_type": "error",
     "traceback": [
      "\u001b[1;31m---------------------------------------------------------------------------\u001b[0m",
      "\u001b[1;31mTypeError\u001b[0m                                 Traceback (most recent call last)",
      "\u001b[1;32m~\\AppData\\Local\\Temp/ipykernel_1540/1053438309.py\u001b[0m in \u001b[0;36m<module>\u001b[1;34m\u001b[0m\n\u001b[0;32m      1\u001b[0m \u001b[0mtime_now\u001b[0m\u001b[1;33m=\u001b[0m\u001b[1;33m(\u001b[0m\u001b[0minput\u001b[0m\u001b[1;33m(\u001b[0m\u001b[1;33m)\u001b[0m\u001b[1;33m)\u001b[0m\u001b[1;33m\u001b[0m\u001b[1;33m\u001b[0m\u001b[0m\n\u001b[0;32m      2\u001b[0m \u001b[0malarm_set\u001b[0m\u001b[1;33m=\u001b[0m\u001b[1;33m(\u001b[0m\u001b[0minput\u001b[0m\u001b[1;33m(\u001b[0m\u001b[1;33m)\u001b[0m\u001b[1;33m)\u001b[0m\u001b[1;33m\u001b[0m\u001b[1;33m\u001b[0m\u001b[0m\n\u001b[1;32m----> 3\u001b[1;33m \u001b[0mprint\u001b[0m\u001b[1;33m(\u001b[0m\u001b[1;33m(\u001b[0m\u001b[0mtime_now\u001b[0m\u001b[1;33m+\u001b[0m\u001b[0malarm_set\u001b[0m\u001b[1;33m)\u001b[0m\u001b[1;33m%\u001b[0m\u001b[1;36m24\u001b[0m\u001b[1;33m)\u001b[0m\u001b[1;33m\u001b[0m\u001b[1;33m\u001b[0m\u001b[0m\n\u001b[0m",
      "\u001b[1;31mTypeError\u001b[0m: not all arguments converted during string formatting"
     ]
    }
   ],
   "source": [
    "time_now=(input())\n",
    "alarm_set=(input())\n",
    "print((time_now+alarm_set)%24)"
   ]
  },
  {
   "cell_type": "code",
   "execution_count": null,
   "id": "82191db1",
   "metadata": {},
   "outputs": [],
   "source": [
    "time_now=float(input(\"please enter time now\"))\n",
    "alarm_set=float(input(\"please enter the number of hours to wait for the alar\"))\n",
    "print(\"the time will be:\", (time_now+alarm_set)%24)\n"
   ]
  },
  {
   "cell_type": "code",
   "execution_count": 58,
   "id": "2b677a18",
   "metadata": {},
   "outputs": [
    {
     "name": "stdout",
     "output_type": "stream",
     "text": [
      "14\n",
      "10\n",
      "0.0\n"
     ]
    }
   ],
   "source": [
    "time=float(input())\n",
    "alarm=float(input())\n",
    "print((time+alarm)%24)"
   ]
  },
  {
   "cell_type": "code",
   "execution_count": 61,
   "id": "a5c1e71b",
   "metadata": {},
   "outputs": [
    {
     "name": "stdout",
     "output_type": "stream",
     "text": [
      "['The', 'quick', 'brown', 'fox', 'jumps', 'over', 'the', 'lazy', 'dog']\n"
     ]
    }
   ],
   "source": [
    "text = 'The quick brown fox jumps over the lazy dog'\n",
    "  \n",
    "# Split the text wherever there's a space.\n",
    "words = text.split()\n",
    "print(words)"
   ]
  },
  {
   "cell_type": "code",
   "execution_count": 64,
   "id": "e82cfce2",
   "metadata": {},
   "outputs": [
    {
     "name": "stdout",
     "output_type": "stream",
     "text": [
      "T\n",
      "h\n",
      "e\n",
      " \n",
      "q\n",
      "u\n",
      "i\n",
      "c\n",
      "k\n",
      " \n",
      "b\n",
      "r\n",
      "o\n",
      "w\n",
      "n\n",
      " \n",
      "f\n",
      "o\n",
      "x\n",
      " \n",
      "j\n",
      "u\n",
      "m\n",
      "p\n",
      "s\n",
      " \n",
      "o\n",
      "v\n",
      "e\n",
      "r\n",
      " \n",
      "t\n",
      "h\n",
      "e\n",
      " \n",
      "l\n",
      "a\n",
      "z\n",
      "y\n",
      " \n",
      "d\n",
      "o\n",
      "g\n"
     ]
    }
   ],
   "source": [
    "text = 'The quick brown fox jumps over the lazy dog'\n",
    "for i in text:\n",
    "    print(i)"
   ]
  },
  {
   "cell_type": "code",
   "execution_count": 65,
   "id": "f5d0b8a1",
   "metadata": {},
   "outputs": [],
   "source": [
    "def compound_interest(principle, rate, time):\n",
    " \n",
    "    # Calculates compound interest\n",
    "    Amount = principle * (pow((1 + rate / 100), time))\n",
    "    CI = Amount - principle\n",
    "    print(\"Compound interest is\", CI)"
   ]
  },
  {
   "cell_type": "code",
   "execution_count": 66,
   "id": "f5c91bd9",
   "metadata": {},
   "outputs": [
    {
     "name": "stdout",
     "output_type": "stream",
     "text": [
      "12\n",
      "10\n",
      "32\n",
      "3\n",
      "66\n",
      "17\n",
      "42\n",
      "99\n",
      "20\n",
      "The square of 12 is [144]\n",
      "The square of 10 is [144, 100]\n",
      "The square of 32 is [144, 100, 1024]\n",
      "The square of 3 is [144, 100, 1024, 9]\n",
      "The square of 66 is [144, 100, 1024, 9, 4356]\n",
      "The square of 17 is [144, 100, 1024, 9, 4356, 289]\n",
      "The square of 42 is [144, 100, 1024, 9, 4356, 289, 1764]\n",
      "The square of 99 is [144, 100, 1024, 9, 4356, 289, 1764, 9801]\n",
      "The square of 20 is [144, 100, 1024, 9, 4356, 289, 1764, 9801, 400]\n"
     ]
    }
   ],
   "source": [
    "nums = [12, 10, 32, 3, 66, 17, 42, 99, 20]\n",
    "for i in nums:\n",
    "    print(i)\n",
    "\n",
    "squared = [ ]\n",
    "\n",
    "for i in nums:\n",
    "    squared.append(i * i)\n",
    "    print(\"The square of\", i, \"is\", squared)"
   ]
  },
  {
   "cell_type": "code",
   "execution_count": 73,
   "id": "36df72df",
   "metadata": {},
   "outputs": [
    {
     "name": "stdout",
     "output_type": "stream",
     "text": [
      "the squre of 12 is equal to : 144\n",
      "the squre of 10 is equal to : 100\n",
      "the squre of 32 is equal to : 1024\n",
      "the squre of 3 is equal to : 9\n",
      "the squre of 66 is equal to : 4356\n",
      "the squre of 17 is equal to : 289\n",
      "the squre of 42 is equal to : 1764\n",
      "the squre of 99 is equal to : 9801\n",
      "the squre of 20 is equal to : 400\n"
     ]
    }
   ],
   "source": [
    "d=[12,10,32,3,66,17,42,99,20]\n",
    "y={}\n",
    "for x in d:\n",
    "    y[x]=x**2\n",
    "for k ,v  in  y.items():\n",
    "    print(\"the squre of\",k, \"is equal to :\",v)"
   ]
  },
  {
   "cell_type": "code",
   "execution_count": 645,
   "id": "769e7ae6",
   "metadata": {},
   "outputs": [
    {
     "name": "stdout",
     "output_type": "stream",
     "text": [
      "7\n",
      "2\n",
      "6\n",
      "2\n",
      "4\n",
      "6\n",
      "1\n",
      "4\n",
      "5\n",
      "7\n"
     ]
    }
   ],
   "source": [
    "import random\n",
    "\n",
    "for i in range(10):\n",
    "    random_num = random.randint(0,7)\n",
    "    print(random_num)"
   ]
  },
  {
   "cell_type": "code",
   "execution_count": 646,
   "id": "9f570cdc",
   "metadata": {},
   "outputs": [
    {
     "name": "stdout",
     "output_type": "stream",
     "text": [
      "45\n",
      "73\n",
      "95\n",
      "17\n",
      "54\n",
      "61\n",
      "99\n",
      "17\n",
      "53\n",
      "37\n"
     ]
    }
   ],
   "source": [
    "import random\n",
    "\n",
    "for i in range(10):\n",
    "    random_num = random.randint(0,100)\n",
    "    print(random_num)"
   ]
  },
  {
   "cell_type": "code",
   "execution_count": 655,
   "id": "9b67d12e",
   "metadata": {},
   "outputs": [
    {
     "name": "stdout",
     "output_type": "stream",
     "text": [
      "4\n",
      "2\n",
      "4\n",
      "1\n",
      "5\n",
      "6\n",
      "7\n",
      "5\n",
      "7\n",
      "5\n",
      "3\n",
      "7\n",
      "3\n",
      "2\n",
      "6\n",
      "6\n",
      "7\n",
      "5\n",
      "5\n",
      "7\n",
      "4\n",
      "5\n",
      "7\n",
      "7\n",
      "7\n",
      "1\n",
      "2\n",
      "2\n",
      "1\n",
      "5\n",
      "7\n",
      "6\n",
      "1\n",
      "4\n",
      "4\n",
      "5\n",
      "6\n",
      "1\n",
      "1\n",
      "1\n",
      "6\n",
      "4\n",
      "4\n",
      "3\n",
      "7\n",
      "4\n",
      "5\n",
      "1\n",
      "6\n",
      "6\n",
      "1\n",
      "4\n",
      "1\n",
      "7\n",
      "7\n",
      "5\n",
      "2\n",
      "2\n",
      "2\n",
      "1\n",
      "3\n",
      "7\n",
      "1\n",
      "2\n",
      "1\n",
      "1\n",
      "3\n",
      "1\n",
      "2\n",
      "2\n",
      "4\n",
      "7\n",
      "6\n",
      "7\n",
      "7\n",
      "6\n",
      "4\n",
      "5\n",
      "2\n",
      "4\n",
      "1\n",
      "5\n",
      "2\n",
      "3\n",
      "6\n",
      "2\n",
      "5\n",
      "1\n",
      "6\n",
      "1\n",
      "4\n",
      "7\n",
      "3\n",
      "6\n",
      "3\n",
      "3\n",
      "5\n",
      "1\n",
      "5\n",
      "1\n"
     ]
    }
   ],
   "source": [
    "import random\n",
    "\n",
    "for i in range(1,101):\n",
    "    random_num = random.randint(1,7)\n",
    "    print(random_num)"
   ]
  },
  {
   "cell_type": "code",
   "execution_count": 652,
   "id": "eb62f40a",
   "metadata": {},
   "outputs": [
    {
     "name": "stdout",
     "output_type": "stream",
     "text": [
      "5\n",
      "0\n",
      "0\n",
      "5\n",
      "5\n",
      "5\n",
      "5\n",
      "0\n",
      "0\n",
      "5\n"
     ]
    }
   ],
   "source": [
    "import random\n",
    "\n",
    "for i in range(10):\n",
    "    print(random.randrange(0,7,5))\n",
    "   "
   ]
  },
  {
   "cell_type": "code",
   "execution_count": 657,
   "id": "151fa788",
   "metadata": {},
   "outputs": [
    {
     "name": "stdout",
     "output_type": "stream",
     "text": [
      "3\n",
      "3\n",
      "5\n",
      "1\n",
      "5\n",
      "5\n",
      "6\n",
      "5\n",
      "6\n",
      "1\n",
      "4\n",
      "6\n",
      "2\n",
      "5\n",
      "1\n",
      "2\n",
      "5\n",
      "2\n",
      "3\n",
      "3\n",
      "4\n",
      "2\n",
      "6\n",
      "1\n",
      "5\n",
      "2\n",
      "2\n",
      "5\n",
      "4\n",
      "2\n",
      "1\n",
      "3\n",
      "3\n",
      "4\n",
      "6\n",
      "3\n",
      "5\n",
      "2\n",
      "5\n",
      "5\n",
      "6\n",
      "4\n",
      "2\n",
      "5\n",
      "2\n",
      "2\n",
      "3\n",
      "4\n",
      "6\n",
      "3\n",
      "4\n",
      "3\n",
      "6\n",
      "3\n",
      "4\n",
      "2\n",
      "6\n",
      "3\n",
      "3\n",
      "1\n",
      "1\n",
      "3\n",
      "6\n",
      "1\n",
      "3\n",
      "1\n",
      "3\n",
      "2\n",
      "1\n",
      "4\n",
      "1\n",
      "2\n",
      "1\n",
      "1\n",
      "6\n",
      "3\n",
      "1\n",
      "5\n",
      "6\n",
      "2\n",
      "1\n",
      "5\n",
      "6\n",
      "5\n",
      "4\n",
      "3\n",
      "3\n",
      "6\n",
      "3\n",
      "6\n",
      "5\n",
      "5\n",
      "1\n",
      "6\n",
      "5\n",
      "1\n",
      "4\n",
      "4\n",
      "6\n",
      "4\n"
     ]
    }
   ],
   "source": [
    "import random\n",
    "\n",
    "for i in range(100):\n",
    "    print(random.randrange(1,7))\n",
    "   "
   ]
  },
  {
   "cell_type": "code",
   "execution_count": 661,
   "id": "5611c803",
   "metadata": {},
   "outputs": [
    {
     "ename": "NameError",
     "evalue": "name 'count_1' is not defined",
     "output_type": "error",
     "traceback": [
      "\u001b[1;31m---------------------------------------------------------------------------\u001b[0m",
      "\u001b[1;31mNameError\u001b[0m                                 Traceback (most recent call last)",
      "\u001b[1;32m~\\AppData\\Local\\Temp/ipykernel_1540/4085249528.py\u001b[0m in \u001b[0;36m<module>\u001b[1;34m\u001b[0m\n\u001b[0;32m     15\u001b[0m \u001b[1;33m\u001b[0m\u001b[0m\n\u001b[0;32m     16\u001b[0m \u001b[1;33m\u001b[0m\u001b[0m\n\u001b[1;32m---> 17\u001b[1;33m     \u001b[0mprint\u001b[0m\u001b[1;33m(\u001b[0m\u001b[0mcount_1\u001b[0m\u001b[1;33m)\u001b[0m\u001b[1;33m\u001b[0m\u001b[1;33m\u001b[0m\u001b[0m\n\u001b[0m\u001b[0;32m     18\u001b[0m     \u001b[0mprint\u001b[0m\u001b[1;33m(\u001b[0m\u001b[0mcount_2\u001b[0m\u001b[1;33m)\u001b[0m\u001b[1;33m\u001b[0m\u001b[1;33m\u001b[0m\u001b[0m\n\u001b[0;32m     19\u001b[0m     \u001b[0mprint\u001b[0m\u001b[1;33m(\u001b[0m\u001b[0mcount_3\u001b[0m\u001b[1;33m)\u001b[0m\u001b[1;33m\u001b[0m\u001b[1;33m\u001b[0m\u001b[0m\n",
      "\u001b[1;31mNameError\u001b[0m: name 'count_1' is not defined"
     ]
    }
   ],
   "source": [
    "import math,random\n",
    "string='123456'\n",
    "for i in range(100):\n",
    "    ans=string[math.floor(random.random()*1)]\n",
    "    if ans==1:\n",
    "        count_1+=1\n",
    "    elif ans==2:\n",
    "        count_2+=1\n",
    "    elif ans==3:\n",
    "        count_3+=1\n",
    "    elif ans==4:\n",
    "        count_4+=1\n",
    "    elif ans==5:\n",
    "        count_5+=1\n",
    "\n",
    "    \n",
    "    print(count_1)\n",
    "    print(count_2)\n",
    "    print(count_3)\n",
    "    print(count_4)\n",
    "    print(count_5)\n",
    "   \n"
   ]
  },
  {
   "cell_type": "code",
   "execution_count": 673,
   "id": "1ac516bf",
   "metadata": {},
   "outputs": [
    {
     "name": "stdout",
     "output_type": "stream",
     "text": [
      "1\n",
      "3\n",
      "string involved\n"
     ]
    }
   ],
   "source": [
    "a=input()\n",
    "b=input()\n",
    "if type(a)==str or type(b)==str:\n",
    "    print(\"string involved\")\n",
    "elif a>=b:\n",
    "    print(a,b,end=\" \")\n",
    "elif b>=a:\n",
    "        print(a,b,end=\" \")\n"
   ]
  },
  {
   "cell_type": "code",
   "execution_count": 684,
   "id": "431af64d",
   "metadata": {},
   "outputs": [
    {
     "name": "stdout",
     "output_type": "stream",
     "text": [
      "bobobobobbobo\n",
      "Number of bob are:\n",
      "6\n"
     ]
    }
   ],
   "source": [
    "string=input()\n",
    "d=0\n",
    "for i in string:\n",
    "    if(i=='o'):\n",
    "        d=d+1\n",
    "print(\"Number of bob are:\")\n",
    "print(d)"
   ]
  },
  {
   "cell_type": "code",
   "execution_count": 679,
   "id": "5190b73f",
   "metadata": {},
   "outputs": [
    {
     "name": "stdout",
     "output_type": "stream",
     "text": [
      "Enter string:bobobobobboobobo\n",
      "Number of vowels are:\n",
      "8\n"
     ]
    }
   ],
   "source": [
    "string=input(\"Enter string:\")\n",
    "vowels=0\n",
    "for i in string:\n",
    "      if(i=='a' or i=='e' or i=='i' or i=='o' or i=='u' or i=='A' or i=='E' or i=='I' or i=='O' or i=='U'):\n",
    "            vowels=vowels+1\n",
    "print(\"Number of vowels are:\")\n",
    "print(vowels)"
   ]
  },
  {
   "cell_type": "code",
   "execution_count": 8,
   "id": "56d0a6ef",
   "metadata": {},
   "outputs": [
    {
     "name": "stdout",
     "output_type": "stream",
     "text": [
      "[1, 2, 3, 4, 1, 5, 4, 13]\n"
     ]
    }
   ],
   "source": [
    "s1=[1,2,3,4]\n",
    "s2=[1,5,4,13]\n",
    "print(s1+s2)\n"
   ]
  },
  {
   "cell_type": "code",
   "execution_count": 9,
   "id": "6810f2e1",
   "metadata": {},
   "outputs": [],
   "source": [
    "d = {\"john\":40, \"peter\":45}"
   ]
  },
  {
   "cell_type": "code",
   "execution_count": 12,
   "id": "6b4b5b5b",
   "metadata": {},
   "outputs": [],
   "source": [
    " d = {}\n",
    "\n"
   ]
  },
  {
   "cell_type": "code",
   "execution_count": 13,
   "id": "9d4c49cf",
   "metadata": {},
   "outputs": [
    {
     "data": {
      "text/plain": [
       "True"
      ]
     },
     "execution_count": 13,
     "metadata": {},
     "output_type": "execute_result"
    }
   ],
   "source": [
    "d = {\"john\":40, \"peter\":45}\n",
    "\"john\" in d "
   ]
  },
  {
   "cell_type": "code",
   "execution_count": 22,
   "id": "8382485d",
   "metadata": {},
   "outputs": [
    {
     "ename": "TypeError",
     "evalue": "'>=' not supported between instances of 'dict' and 'dict'",
     "output_type": "error",
     "traceback": [
      "\u001b[1;31m---------------------------------------------------------------------------\u001b[0m",
      "\u001b[1;31mTypeError\u001b[0m                                 Traceback (most recent call last)",
      "\u001b[1;32m~\\AppData\\Local\\Temp/ipykernel_7036/165750335.py\u001b[0m in \u001b[0;36m<module>\u001b[1;34m\u001b[0m\n\u001b[0;32m      1\u001b[0m \u001b[0md1\u001b[0m \u001b[1;33m=\u001b[0m \u001b[1;33m{\u001b[0m\u001b[1;34m\"john\"\u001b[0m\u001b[1;33m:\u001b[0m\u001b[1;36m40\u001b[0m\u001b[1;33m,\u001b[0m \u001b[1;34m\"peter\"\u001b[0m\u001b[1;33m:\u001b[0m\u001b[1;36m45\u001b[0m\u001b[1;33m}\u001b[0m\u001b[1;33m\u001b[0m\u001b[1;33m\u001b[0m\u001b[0m\n\u001b[0;32m      2\u001b[0m \u001b[0md2\u001b[0m \u001b[1;33m=\u001b[0m \u001b[1;33m{\u001b[0m\u001b[1;34m\"john\"\u001b[0m\u001b[1;33m:\u001b[0m\u001b[1;36m466\u001b[0m\u001b[1;33m,\u001b[0m \u001b[1;34m\"peter\"\u001b[0m\u001b[1;33m:\u001b[0m\u001b[1;36m45\u001b[0m\u001b[1;33m}\u001b[0m\u001b[1;33m\u001b[0m\u001b[1;33m\u001b[0m\u001b[0m\n\u001b[1;32m----> 3\u001b[1;33m \u001b[0md1\u001b[0m\u001b[1;33m>=\u001b[0m\u001b[0md2\u001b[0m\u001b[1;33m\u001b[0m\u001b[1;33m\u001b[0m\u001b[0m\n\u001b[0m",
      "\u001b[1;31mTypeError\u001b[0m: '>=' not supported between instances of 'dict' and 'dict'"
     ]
    }
   ],
   "source": [
    "d1 = {\"john\":40, \"peter\":45}\n",
    "d2 = {\"john\":466, \"peter\":45}\n",
    "d1>d2"
   ]
  },
  {
   "cell_type": "code",
   "execution_count": 30,
   "id": "95dadd20",
   "metadata": {},
   "outputs": [
    {
     "name": "stdout",
     "output_type": "stream",
     "text": [
      "{'peter': 45}\n"
     ]
    }
   ],
   "source": [
    "d = {\"john\":40, \"peter\":45}\n",
    "del d[\"john\"]\n",
    "print(d)"
   ]
  },
  {
   "cell_type": "code",
   "execution_count": 37,
   "id": "c27bf043",
   "metadata": {},
   "outputs": [
    {
     "data": {
      "text/plain": [
       "2"
      ]
     },
     "execution_count": 37,
     "metadata": {},
     "output_type": "execute_result"
    }
   ],
   "source": [
    "d = {\"john\":40, \"peter\":45}\n",
    "len(d)"
   ]
  },
  {
   "cell_type": "code",
   "execution_count": 38,
   "id": "647e724b",
   "metadata": {},
   "outputs": [
    {
     "name": "stdout",
     "output_type": "stream",
     "text": [
      "['john', 'peter']\n"
     ]
    }
   ],
   "source": [
    "d = {\"john\":40, \"peter\":45}\n",
    "print(list(d.keys()))\n"
   ]
  },
  {
   "cell_type": "code",
   "execution_count": 39,
   "id": "f8d5b7c6",
   "metadata": {},
   "outputs": [
    {
     "ename": "KeyError",
     "evalue": "'susan'",
     "output_type": "error",
     "traceback": [
      "\u001b[1;31m---------------------------------------------------------------------------\u001b[0m",
      "\u001b[1;31mKeyError\u001b[0m                                  Traceback (most recent call last)",
      "\u001b[1;32m~\\AppData\\Local\\Temp/ipykernel_7036/2511670476.py\u001b[0m in \u001b[0;36m<module>\u001b[1;34m\u001b[0m\n\u001b[0;32m      1\u001b[0m \u001b[0md\u001b[0m \u001b[1;33m=\u001b[0m \u001b[1;33m{\u001b[0m\u001b[1;34m\"john\"\u001b[0m\u001b[1;33m:\u001b[0m\u001b[1;36m40\u001b[0m\u001b[1;33m,\u001b[0m \u001b[1;34m\"peter\"\u001b[0m\u001b[1;33m:\u001b[0m\u001b[1;36m45\u001b[0m\u001b[1;33m}\u001b[0m\u001b[1;33m\u001b[0m\u001b[1;33m\u001b[0m\u001b[0m\n\u001b[1;32m----> 2\u001b[1;33m \u001b[0md\u001b[0m\u001b[1;33m[\u001b[0m\u001b[1;34m\"susan\"\u001b[0m\u001b[1;33m]\u001b[0m\u001b[1;33m\u001b[0m\u001b[1;33m\u001b[0m\u001b[0m\n\u001b[0m",
      "\u001b[1;31mKeyError\u001b[0m: 'susan'"
     ]
    }
   ],
   "source": [
    "d = {\"john\":40, \"peter\":45}\n",
    "d[\"susan\"]"
   ]
  },
  {
   "cell_type": "code",
   "execution_count": 42,
   "id": "1bd69a23",
   "metadata": {},
   "outputs": [
    {
     "name": "stdout",
     "output_type": "stream",
     "text": [
      "{'john': 40, 'peter': 45}\n"
     ]
    }
   ],
   "source": [
    "d = {\"john\":40, \"peter\":45}\n",
    "d.get(\"susan\")\n",
    "print(d)"
   ]
  },
  {
   "cell_type": "code",
   "execution_count": null,
   "id": "55bc4349",
   "metadata": {},
   "outputs": [],
   "source": []
  }
 ],
 "metadata": {
  "kernelspec": {
   "display_name": "Python 3 (ipykernel)",
   "language": "python",
   "name": "python3"
  },
  "language_info": {
   "codemirror_mode": {
    "name": "ipython",
    "version": 3
   },
   "file_extension": ".py",
   "mimetype": "text/x-python",
   "name": "python",
   "nbconvert_exporter": "python",
   "pygments_lexer": "ipython3",
   "version": "3.10.0"
  }
 },
 "nbformat": 4,
 "nbformat_minor": 5
}
