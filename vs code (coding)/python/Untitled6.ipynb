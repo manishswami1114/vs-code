{
 "cells": [
  {
   "cell_type": "code",
   "execution_count": 1,
   "id": "c576c26c",
   "metadata": {},
   "outputs": [
    {
     "ename": "IndentationError",
     "evalue": "unexpected indent (Temp/ipykernel_2508/957124933.py, line 2)",
     "output_type": "error",
     "traceback": [
      "\u001b[1;36m  File \u001b[1;32m\"C:\\Users\\HP\\AppData\\Local\\Temp/ipykernel_2508/957124933.py\"\u001b[1;36m, line \u001b[1;32m2\u001b[0m\n\u001b[1;33m    if nRows == 0:\u001b[0m\n\u001b[1;37m    ^\u001b[0m\n\u001b[1;31mIndentationError\u001b[0m\u001b[1;31m:\u001b[0m unexpected indent\n"
     ]
    }
   ],
   "source": [
    "#Your code goes here\n",
    "    if nRows == 0:\n",
    "        return\n",
    "    for j in range(mCols):\n",
    "        if j% 2 == 0:\n",
    "            for i in range(nRows):\n",
    "                print(mat[i][j],end=\" \")\n",
    "            else :\n",
    "                for i in range((nRows -1),-1,-1):\n",
    "                    print(mat[i][j],end=\" \")"
   ]
  },
  {
   "cell_type": "code",
   "execution_count": null,
   "id": "afe64d04",
   "metadata": {},
   "outputs": [],
   "source": [
    "# Python3 implementation to print\n",
    "# reverse wave form of matrix\n",
    "\n",
    "R = 4\n",
    "C = 4\n",
    "\n",
    "# function to print reverse wave\n",
    "# form for a given matrix\n",
    "def wavePrint(m, n, arr):\n",
    "\tj = n - 1\n",
    "\twave = 1\n",
    "\t\n",
    "\t# m\t - Ending row index\n",
    "\t# n\t - Ending column index\n",
    "\t# i, j\t - Iterator\n",
    "\t# wave\t - for Direction\n",
    "\t# wave = 1 - Wave direction down\n",
    "\t# wave = 0 - Wave direction up\n",
    "\twhile j >= 0:\n",
    "\t\t\n",
    "\t\t# Check whether to go in\n",
    "\t\t# upward or downward\n",
    "\t\tif wave == 1:\n",
    "\t\n",
    "\t\t\t# Print the element of the\n",
    "\t\t\t# matrix downward since the\n",
    "\t\t\t\t\t\t# value of wave = 1\n",
    "\t\t\tfor i in range(m):\n",
    "\t\t\t\tprint(arr[i][j], end = \" \"),\n",
    "\t\t\twave = 0\n",
    "\t\t\tj -= 1\n",
    "\t\t\t\n",
    "\t\t\t\n",
    "\t\telse:\n",
    "\t\t\t# Print the elements of the\n",
    "\t\t\t# matrix upward since the\n",
    "\t\t\t# value of wave = 0\n",
    "\t\t\tfor i in range(m - 1, -1, -1):\n",
    "\t\t\t\tprint(arr[i][j], end = \" \"),\n",
    "\n",
    "\n",
    "\n",
    "\n",
    "# Driver code\n",
    "arr = [ [ 1, 2, 3, 4 ],\n",
    "\t\t[ 5, 6, 7, 8 ],\n",
    "\t\t[ 9, 10, 11, 12 ],\n",
    "\t\t[ 13, 14, 15, 16 ] ]\n",
    "\t\t\n",
    "wavePrint(R, C, arr)\n",
    "\n",
    "# This code is contributed by\n",
    "# Upendra Singh Bartwal\n"
   ]
  },
  {
   "cell_type": "code",
   "execution_count": 1,
   "id": "72f83fe5",
   "metadata": {},
   "outputs": [
    {
     "name": "stdout",
     "output_type": "stream",
     "text": [
      "1\n",
      "3 4\n",
      "1 2 3 4\n",
      "5 6 7 8\n",
      "9 10 11 12\n"
     ]
    },
    {
     "ename": "NameError",
     "evalue": "name 'j' is not defined",
     "output_type": "error",
     "traceback": [
      "\u001b[1;31m---------------------------------------------------------------------------\u001b[0m",
      "\u001b[1;31mNameError\u001b[0m                                 Traceback (most recent call last)",
      "\u001b[1;32m~\\AppData\\Local\\Temp/ipykernel_15752/1260296056.py\u001b[0m in \u001b[0;36m<module>\u001b[1;34m\u001b[0m\n\u001b[0;32m     37\u001b[0m \u001b[1;33m\u001b[0m\u001b[0m\n\u001b[0;32m     38\u001b[0m     \u001b[0mmat\u001b[0m\u001b[1;33m,\u001b[0m \u001b[0mnRows\u001b[0m\u001b[1;33m,\u001b[0m \u001b[0mmCols\u001b[0m \u001b[1;33m=\u001b[0m \u001b[0mtake2DInput\u001b[0m\u001b[1;33m(\u001b[0m\u001b[1;33m)\u001b[0m\u001b[1;33m\u001b[0m\u001b[1;33m\u001b[0m\u001b[0m\n\u001b[1;32m---> 39\u001b[1;33m     \u001b[0mwavePrint\u001b[0m\u001b[1;33m(\u001b[0m\u001b[0mmat\u001b[0m\u001b[1;33m,\u001b[0m \u001b[0mnRows\u001b[0m\u001b[1;33m,\u001b[0m \u001b[0mmCols\u001b[0m\u001b[1;33m)\u001b[0m\u001b[1;33m\u001b[0m\u001b[1;33m\u001b[0m\u001b[0m\n\u001b[0m\u001b[0;32m     40\u001b[0m     \u001b[0mprint\u001b[0m\u001b[1;33m(\u001b[0m\u001b[1;33m)\u001b[0m\u001b[1;33m\u001b[0m\u001b[1;33m\u001b[0m\u001b[0m\n\u001b[0;32m     41\u001b[0m \u001b[1;33m\u001b[0m\u001b[0m\n",
      "\u001b[1;32m~\\AppData\\Local\\Temp/ipykernel_15752/1260296056.py\u001b[0m in \u001b[0;36mwavePrint\u001b[1;34m(mat, nRows, mCols)\u001b[0m\n\u001b[0;32m      8\u001b[0m         \u001b[1;32mif\u001b[0m \u001b[0mi\u001b[0m\u001b[1;33m%\u001b[0m \u001b[1;36m2\u001b[0m \u001b[1;33m==\u001b[0m \u001b[1;36m0\u001b[0m\u001b[1;33m:\u001b[0m\u001b[1;33m\u001b[0m\u001b[1;33m\u001b[0m\u001b[0m\n\u001b[0;32m      9\u001b[0m             \u001b[1;32mfor\u001b[0m \u001b[0mi\u001b[0m \u001b[1;32min\u001b[0m \u001b[0mrange\u001b[0m\u001b[1;33m(\u001b[0m\u001b[0mnRows\u001b[0m\u001b[1;33m)\u001b[0m\u001b[1;33m:\u001b[0m\u001b[1;33m\u001b[0m\u001b[1;33m\u001b[0m\u001b[0m\n\u001b[1;32m---> 10\u001b[1;33m                 \u001b[0mprint\u001b[0m\u001b[1;33m(\u001b[0m\u001b[0mmat\u001b[0m\u001b[1;33m[\u001b[0m\u001b[0mi\u001b[0m\u001b[1;33m]\u001b[0m\u001b[1;33m[\u001b[0m\u001b[0mj\u001b[0m\u001b[1;33m]\u001b[0m\u001b[1;33m,\u001b[0m\u001b[0mend\u001b[0m\u001b[1;33m=\u001b[0m\u001b[1;34m\" \"\u001b[0m\u001b[1;33m)\u001b[0m\u001b[1;33m\u001b[0m\u001b[1;33m\u001b[0m\u001b[0m\n\u001b[0m\u001b[0;32m     11\u001b[0m             \u001b[1;32melse\u001b[0m \u001b[1;33m:\u001b[0m\u001b[1;33m\u001b[0m\u001b[1;33m\u001b[0m\u001b[0m\n\u001b[0;32m     12\u001b[0m                 \u001b[1;32mfor\u001b[0m \u001b[0mi\u001b[0m \u001b[1;32min\u001b[0m \u001b[0mrange\u001b[0m\u001b[1;33m(\u001b[0m\u001b[1;33m(\u001b[0m\u001b[0mnRows\u001b[0m \u001b[1;33m-\u001b[0m\u001b[1;36m1\u001b[0m\u001b[1;33m)\u001b[0m\u001b[1;33m,\u001b[0m\u001b[1;33m-\u001b[0m\u001b[1;36m1\u001b[0m\u001b[1;33m,\u001b[0m\u001b[1;33m-\u001b[0m\u001b[1;36m1\u001b[0m\u001b[1;33m)\u001b[0m\u001b[1;33m:\u001b[0m\u001b[1;33m\u001b[0m\u001b[1;33m\u001b[0m\u001b[0m\n",
      "\u001b[1;31mNameError\u001b[0m: name 'j' is not defined"
     ]
    }
   ],
   "source": [
    "from sys import stdin\n",
    "\n",
    "def wavePrint(mat, nRows, mCols):\n",
    "    #Your code goes here\n",
    "    if nRows == 0:\n",
    "        return\n",
    "    for i in range(mCols):\n",
    "        if i% 2 == 0:\n",
    "            for i in range(nRows):\n",
    "                print(mat[i][j],end=\" \")\n",
    "            else :\n",
    "                for i in range((nRows -1),-1,-1):\n",
    "                    print(mat[i][j],end=\" \")\n",
    "\n",
    "\n",
    "\n",
    "\n",
    "\n",
    "\n",
    "#Taking Iput Using Fast I/O\n",
    "def take2DInput() :\n",
    "    li = input().split()\n",
    "    nRows = int(li[0])\n",
    "    mCols = int(li[1])\n",
    "    \n",
    "    if nRows == 0 :\n",
    "        return list(), 0, 0\n",
    "    \n",
    "    mat = [list(map(int, input().split())) for row in range(nRows)]\n",
    "    return mat, nRows, mCols\n",
    "\n",
    "\n",
    "#main\n",
    "t = int(input())\n",
    "\n",
    "while t > 0 :\n",
    "\n",
    "    mat, nRows, mCols = take2DInput()\n",
    "    wavePrint(mat, nRows, mCols)\n",
    "    print()\n",
    "\n",
    "    t -= 1"
   ]
  },
  {
   "cell_type": "code",
   "execution_count": null,
   "id": "43edc8c7",
   "metadata": {},
   "outputs": [],
   "source": [
    "    i = n - 1\n",
    "    j = m - 1\n",
    "    carry = 0\n",
    "    k = max(n, m)\n",
    "    #k is the current index output array \n",
    "    while i >= 0 and j >= 0 :\n",
    "        SUM = arr1[i] + arr2[j] + carry \n",
    "        output[k] = SUM % 10\n",
    "        carry = SUM // 10 \n",
    "        i -= 1 \n",
    "        j -= 1\n",
    "        k -= 1 \n",
    "    while i >= 0 :\n",
    "        SUM = arr1[i] + carry \n",
    "        output[k] = SUM % 10 \n",
    "        carry = SUM // 10 \n",
    "        i -= 1 \n",
    "        k -= 1 \n",
    "    while j >= 0 : \n",
    "        SUM = arr2[j] + carry \n",
    "        output[k] = SUM % 10 \n",
    "        carry = SUM // 10 \n",
    "        j -= 1\n",
    "        k -= 1 \n"
   ]
  },
  {
   "cell_type": "code",
   "execution_count": 2,
   "id": "412162dc",
   "metadata": {},
   "outputs": [
    {
     "ename": "ValueError",
     "evalue": "invalid literal for int() with base 10: ''",
     "output_type": "error",
     "traceback": [
      "\u001b[1;31m---------------------------------------------------------------------------\u001b[0m",
      "\u001b[1;31mValueError\u001b[0m                                Traceback (most recent call last)",
      "\u001b[1;32m~\\AppData\\Local\\Temp/ipykernel_2884/1169381624.py\u001b[0m in \u001b[0;36m<module>\u001b[1;34m\u001b[0m\n\u001b[0;32m     67\u001b[0m \u001b[1;33m\u001b[0m\u001b[0m\n\u001b[0;32m     68\u001b[0m \u001b[1;31m#main\u001b[0m\u001b[1;33m\u001b[0m\u001b[1;33m\u001b[0m\u001b[0m\n\u001b[1;32m---> 69\u001b[1;33m \u001b[0mt\u001b[0m \u001b[1;33m=\u001b[0m \u001b[0mint\u001b[0m\u001b[1;33m(\u001b[0m\u001b[0mstdin\u001b[0m\u001b[1;33m.\u001b[0m\u001b[0mreadline\u001b[0m\u001b[1;33m(\u001b[0m\u001b[1;33m)\u001b[0m\u001b[1;33m.\u001b[0m\u001b[0mrstrip\u001b[0m\u001b[1;33m(\u001b[0m\u001b[1;33m)\u001b[0m\u001b[1;33m)\u001b[0m\u001b[1;33m\u001b[0m\u001b[1;33m\u001b[0m\u001b[0m\n\u001b[0m\u001b[0;32m     70\u001b[0m \u001b[1;33m\u001b[0m\u001b[0m\n\u001b[0;32m     71\u001b[0m \u001b[1;32mwhile\u001b[0m \u001b[0mt\u001b[0m \u001b[1;33m>\u001b[0m \u001b[1;36m0\u001b[0m \u001b[1;33m:\u001b[0m\u001b[1;33m\u001b[0m\u001b[1;33m\u001b[0m\u001b[0m\n",
      "\u001b[1;31mValueError\u001b[0m: invalid literal for int() with base 10: ''"
     ]
    }
   ],
   "source": [
    "from sys import stdin\n",
    "\n",
    "def sumOfTwoArrays(arr1, n, arr2, m, output) :\n",
    "    #Your code goes here\n",
    "    i = n - 1\n",
    "    j = m - 1\n",
    "    carry = 0\n",
    "    k = max(n, m)\n",
    "    #k is the current index output array \n",
    "    while i >= 0 and j >= 0 :\n",
    "        SUM = arr1[i] + arr2[j] + carry \n",
    "        output[k] = SUM % 10\n",
    "        carry = SUM // 10 \n",
    "        i -= 1 \n",
    "        j -= 1\n",
    "        k -= 1 \n",
    "    while i >= 0 :\n",
    "        SUM = arr1[i] + carry \n",
    "        output[k] = SUM % 10 \n",
    "        carry = SUM // 10 \n",
    "        i -= 1 \n",
    "        k -= 1 \n",
    "    while j >= 0 : \n",
    "        SUM = arr2[j] + carry \n",
    "        output[k] = SUM % 10 \n",
    "        carry = SUM // 10 \n",
    "        j -= 1\n",
    "        k -= 1 \n",
    "\n",
    "\n",
    "\n",
    "\n",
    "\n",
    "\n",
    "\n",
    "\n",
    "\n",
    "\n",
    "\n",
    "\n",
    "\n",
    "\n",
    "\n",
    "\n",
    "\n",
    "\n",
    "\n",
    "\n",
    "\n",
    "#Taking Input Using Fast I/O\n",
    "def takeInput() :\n",
    "    n = int(stdin.readline().rstrip())\n",
    "    if n == 0 :\n",
    "        return list(), 0\n",
    "    \n",
    "    arr = list(map(int, stdin.readline().rstrip().split(\" \")))\n",
    "    return arr, n\n",
    "\n",
    "\n",
    "#to print the arry/list\n",
    "def printList(arr, n) :\n",
    "    for i in range(n) :\n",
    "        print(arr[i], end = \" \")\n",
    "    \n",
    "    print()\n",
    "\n",
    "\n",
    "#main\n",
    "t = int(stdin.readline().rstrip())\n",
    "\n",
    "while t > 0 :\n",
    "    arr1, n = takeInput()\n",
    "    arr2, m = takeInput()\n",
    "    \n",
    "    outputSize = (1 + max(n, m))\n",
    "    output = outputSize * [0]\n",
    "    \n",
    "    sumOfTwoArrays(arr1, n, arr2, m, output)\n",
    "    printList(output, outputSize)\n",
    "    \n",
    "    t -= 1"
   ]
  },
  {
   "cell_type": "code",
   "execution_count": 3,
   "id": "feb36ef3",
   "metadata": {},
   "outputs": [
    {
     "name": "stdout",
     "output_type": "stream",
     "text": [
      "1000\n"
     ]
    }
   ],
   "source": [
    "# Python3 code to sum two numbers\n",
    "# representer two arrays.\n",
    "\n",
    "# Return sum of two number represented\n",
    "# by the arrays. Size of a[] is greater\n",
    "# than b[]. It is made sure be the\n",
    "# wrapper function\n",
    "def calSumUtil( a , b , n , m ):\n",
    "\t# array to store sum.\n",
    "\tsum = [0] * n\n",
    "\ti = n - 1\n",
    "\tj = m - 1\n",
    "\tk = n - 1\n",
    "\t\n",
    "\tcarry = 0\n",
    "\ts = 0\n",
    "\t\n",
    "\t# Until we reach beginning of array.\n",
    "\t# we are comparing only for second array\n",
    "\t# because we have already compare the size\n",
    "\t# of array in wrapper function.\n",
    "\twhile j >= 0:\n",
    "\n",
    "\t\t# find sum of corresponding element\n",
    "\t\t# of both array.\n",
    "\t\ts = a[i] + b[j] + carry\n",
    "\t\tsum[k] = (s % 10)\n",
    "\t\t\n",
    "\t\t# Finding carry for next sum.\n",
    "\t\tcarry = s // 10\n",
    "\t\t\n",
    "\t\tk-=1\n",
    "\t\ti-=1\n",
    "\t\tj-=1\n",
    "\t\n",
    "\t# If second array size is less the first\n",
    "\t# array size.\n",
    "\twhile i >= 0:\n",
    "\n",
    "\t\t# Add carry to first array elements.\n",
    "\t\ts = a[i] + carry\n",
    "\t\tsum[k] = (s % 10)\n",
    "\t\tcarry = s // 10\n",
    "\t\t\n",
    "\t\ti-=1\n",
    "\t\tk-=1\n",
    "\t\n",
    "\tans = 0\n",
    "\t# If there is carry on adding 0 index elements.\n",
    "\t# append 1 to total sum.\n",
    "\tif carry:\n",
    "\t\tans = 10\n",
    "\t\n",
    "\t# Converting array into number.\n",
    "\tfor i in range(n):\n",
    "\t\tans += sum[i]\n",
    "\t\tans *= 10\n",
    "\t\n",
    "\treturn ans // 10\n",
    "\n",
    "# Wrapper Function\n",
    "def calSum(a, b, n, m ):\n",
    "\n",
    "\t# Making first array which have\n",
    "\t# greater number of element\n",
    "\tif n >= m:\n",
    "\t\treturn calSumUtil(a, b, n, m)\n",
    "\telse:\n",
    "\t\treturn calSumUtil(b, a, m, n)\n",
    "\n",
    "# Driven Code\n",
    "a = [ 9, 3, 9 ]\n",
    "b = [ 6, 1 ]\n",
    "n = len(a)\n",
    "m = len(b)\n",
    "print(calSum(a, b, n, m))\n",
    "\n",
    "# This code is contributed by \"Sharad_Bhardwaj\".\n"
   ]
  },
  {
   "cell_type": "code",
   "execution_count": 9,
   "id": "d447d4fd",
   "metadata": {},
   "outputs": [
    {
     "name": "stdout",
     "output_type": "stream",
     "text": [
      "8\n",
      "256\n"
     ]
    }
   ],
   "source": [
    "def f(x):\n",
    "    return x+x\n",
    "print(f(4))\n",
    "\n",
    "\n",
    "a=lambda x:x*x*x*x\n",
    "print(a(4))"
   ]
  },
  {
   "cell_type": "code",
   "execution_count": 11,
   "id": "595c3cc6",
   "metadata": {},
   "outputs": [
    {
     "name": "stdout",
     "output_type": "stream",
     "text": [
      "32\n"
     ]
    }
   ],
   "source": [
    "a=lambda x,y:x**y\n",
    "print(a(2,5))"
   ]
  },
  {
   "cell_type": "code",
   "execution_count": 13,
   "id": "088ccfea",
   "metadata": {},
   "outputs": [
    {
     "name": "stdout",
     "output_type": "stream",
     "text": [
      "[1, 4, 9, 16]\n"
     ]
    }
   ],
   "source": [
    "a=[1,2,3,4]\n",
    "a1=list(map(lambda x:x**2,a))\n",
    "print(a1)"
   ]
  },
  {
   "cell_type": "code",
   "execution_count": 15,
   "id": "3bf3525d",
   "metadata": {},
   "outputs": [
    {
     "name": "stdout",
     "output_type": "stream",
     "text": [
      "[12, 15, 18]\n"
     ]
    }
   ],
   "source": [
    "a=[1,2,3]\n",
    "b=[4,5,6]\n",
    "c=[7,8,9]\n",
    "l=list(map(lambda x,y,z:x+y+z,a,b,c))\n",
    "print(l)\n"
   ]
  },
  {
   "cell_type": "code",
   "execution_count": 20,
   "id": "3e7d6cbe",
   "metadata": {},
   "outputs": [
    {
     "name": "stdout",
     "output_type": "stream",
     "text": [
      "50\n"
     ]
    }
   ],
   "source": [
    "from functools import reduce\n",
    "l=[10,20,30,40,50]\n",
    "s=reduce((lambda x,y:x if x > y else y),l)\n",
    "print(s)"
   ]
  },
  {
   "cell_type": "code",
   "execution_count": 19,
   "id": "14b02bd0",
   "metadata": {},
   "outputs": [
    {
     "name": "stdout",
     "output_type": "stream",
     "text": [
      "9\n",
      "The factorial of 9 is 362880\n"
     ]
    }
   ],
   "source": [
    "def recur_factorial(n):\n",
    "   if n == 1:\n",
    "       return n\n",
    "   else:\n",
    "       return n*recur_factorial(n-1)\n",
    "\n",
    "num = int(input())\n",
    "\n",
    "# check if the number is negative\n",
    "if num < 0:\n",
    "   print(\"Sorry, factorial does not exist for negative numbers\")\n",
    "elif num == 0:\n",
    "   print(\"The factorial of 0 is 1\")\n",
    "else:\n",
    "   print(\"The factorial of\", num, \"is\", recur_factorial(num))\n"
   ]
  },
  {
   "cell_type": "code",
   "execution_count": null,
   "id": "6ba4dd84",
   "metadata": {},
   "outputs": [],
   "source": [
    "from functools import reduce\n",
    "s=reduce((lambda x,y:x if x > y else y),l)\n",
    "print(s)"
   ]
  },
  {
   "cell_type": "code",
   "execution_count": 28,
   "id": "f44b2281",
   "metadata": {},
   "outputs": [
    {
     "name": "stdout",
     "output_type": "stream",
     "text": [
      "['brazil', 'bangladesh']\n"
     ]
    }
   ],
   "source": [
    "countries = ['india','brazil','bangladesh']\n",
    "s=list(filter(lambda x:'b'in x,countries))\n",
    "print(s)"
   ]
  },
  {
   "cell_type": "code",
   "execution_count": 35,
   "id": "7b04ba11",
   "metadata": {},
   "outputs": [
    {
     "ename": "TypeError",
     "evalue": "'str' object is not callable",
     "output_type": "error",
     "traceback": [
      "\u001b[1;31m---------------------------------------------------------------------------\u001b[0m",
      "\u001b[1;31mTypeError\u001b[0m                                 Traceback (most recent call last)",
      "\u001b[1;32m~\\AppData\\Local\\Temp/ipykernel_2884/2146891401.py\u001b[0m in \u001b[0;36m<module>\u001b[1;34m\u001b[0m\n\u001b[0;32m      1\u001b[0m \u001b[0mfruit\u001b[0m \u001b[1;33m=\u001b[0m\u001b[1;33m[\u001b[0m\u001b[1;34m\"Apple\"\u001b[0m\u001b[1;33m,\u001b[0m\u001b[1;34m\"Peer\"\u001b[0m\u001b[1;33m,\u001b[0m\u001b[1;34m\"Apricot\"\u001b[0m\u001b[1;33m,\u001b[0m\u001b[1;34m\"Orange\"\u001b[0m\u001b[1;33m,\u001b[0m\u001b[1;33m]\u001b[0m\u001b[1;33m\u001b[0m\u001b[1;33m\u001b[0m\u001b[0m\n\u001b[1;32m----> 2\u001b[1;33m \u001b[0ms\u001b[0m\u001b[1;33m=\u001b[0m\u001b[0mlist\u001b[0m\u001b[1;33m(\u001b[0m\u001b[0mfilter\u001b[0m\u001b[1;33m(\u001b[0m\u001b[1;32mlambda\u001b[0m \u001b[0mx\u001b[0m\u001b[1;33m:\u001b[0m\u001b[1;34m\"A\"\u001b[0m \u001b[1;32min\u001b[0m \u001b[0mx\u001b[0m\u001b[1;33m(\u001b[0m\u001b[1;36m0\u001b[0m\u001b[1;33m)\u001b[0m\u001b[1;33m,\u001b[0m\u001b[0mfruit\u001b[0m\u001b[1;33m)\u001b[0m\u001b[1;33m)\u001b[0m\u001b[1;33m\u001b[0m\u001b[1;33m\u001b[0m\u001b[0m\n\u001b[0m\u001b[0;32m      3\u001b[0m \u001b[0mprint\u001b[0m\u001b[1;33m(\u001b[0m\u001b[0ms\u001b[0m\u001b[1;33m)\u001b[0m\u001b[1;33m\u001b[0m\u001b[1;33m\u001b[0m\u001b[0m\n",
      "\u001b[1;32m~\\AppData\\Local\\Temp/ipykernel_2884/2146891401.py\u001b[0m in \u001b[0;36m<lambda>\u001b[1;34m(x)\u001b[0m\n\u001b[0;32m      1\u001b[0m \u001b[0mfruit\u001b[0m \u001b[1;33m=\u001b[0m\u001b[1;33m[\u001b[0m\u001b[1;34m\"Apple\"\u001b[0m\u001b[1;33m,\u001b[0m\u001b[1;34m\"Peer\"\u001b[0m\u001b[1;33m,\u001b[0m\u001b[1;34m\"Apricot\"\u001b[0m\u001b[1;33m,\u001b[0m\u001b[1;34m\"Orange\"\u001b[0m\u001b[1;33m,\u001b[0m\u001b[1;33m]\u001b[0m\u001b[1;33m\u001b[0m\u001b[1;33m\u001b[0m\u001b[0m\n\u001b[1;32m----> 2\u001b[1;33m \u001b[0ms\u001b[0m\u001b[1;33m=\u001b[0m\u001b[0mlist\u001b[0m\u001b[1;33m(\u001b[0m\u001b[0mfilter\u001b[0m\u001b[1;33m(\u001b[0m\u001b[1;32mlambda\u001b[0m \u001b[0mx\u001b[0m\u001b[1;33m:\u001b[0m\u001b[1;34m\"A\"\u001b[0m \u001b[1;32min\u001b[0m \u001b[0mx\u001b[0m\u001b[1;33m(\u001b[0m\u001b[1;36m0\u001b[0m\u001b[1;33m)\u001b[0m\u001b[1;33m,\u001b[0m\u001b[0mfruit\u001b[0m\u001b[1;33m)\u001b[0m\u001b[1;33m)\u001b[0m\u001b[1;33m\u001b[0m\u001b[1;33m\u001b[0m\u001b[0m\n\u001b[0m\u001b[0;32m      3\u001b[0m \u001b[0mprint\u001b[0m\u001b[1;33m(\u001b[0m\u001b[0ms\u001b[0m\u001b[1;33m)\u001b[0m\u001b[1;33m\u001b[0m\u001b[1;33m\u001b[0m\u001b[0m\n",
      "\u001b[1;31mTypeError\u001b[0m: 'str' object is not callable"
     ]
    }
   ],
   "source": [
    "fruit =[\"Apple\",\"Peer\",\"Apricot\",\"Orange\",]\n",
    "s=list(filter(lambda x:\"A\" in x(0),fruit))\n",
    "print(s)\n"
   ]
  },
  {
   "cell_type": "markdown",
   "id": "4c8b6607",
   "metadata": {},
   "source": [
    "# sum of two arrays\n",
    "\n",
    "\n",
    "\n",
    "\n",
    "\n",
    "\n"
   ]
  },
  {
   "cell_type": "code",
   "execution_count": 36,
   "id": "7a0025ad",
   "metadata": {},
   "outputs": [
    {
     "ename": "ValueError",
     "evalue": "invalid literal for int() with base 10: ''",
     "output_type": "error",
     "traceback": [
      "\u001b[1;31m---------------------------------------------------------------------------\u001b[0m",
      "\u001b[1;31mValueError\u001b[0m                                Traceback (most recent call last)",
      "\u001b[1;32m~\\AppData\\Local\\Temp/ipykernel_2884/81761553.py\u001b[0m in \u001b[0;36m<module>\u001b[1;34m\u001b[0m\n\u001b[0;32m     66\u001b[0m \u001b[1;33m\u001b[0m\u001b[0m\n\u001b[0;32m     67\u001b[0m \u001b[1;31m#main\u001b[0m\u001b[1;33m\u001b[0m\u001b[1;33m\u001b[0m\u001b[0m\n\u001b[1;32m---> 68\u001b[1;33m \u001b[0mt\u001b[0m \u001b[1;33m=\u001b[0m \u001b[0mint\u001b[0m\u001b[1;33m(\u001b[0m\u001b[0mstdin\u001b[0m\u001b[1;33m.\u001b[0m\u001b[0mreadline\u001b[0m\u001b[1;33m(\u001b[0m\u001b[1;33m)\u001b[0m\u001b[1;33m.\u001b[0m\u001b[0mrstrip\u001b[0m\u001b[1;33m(\u001b[0m\u001b[1;33m)\u001b[0m\u001b[1;33m)\u001b[0m\u001b[1;33m\u001b[0m\u001b[1;33m\u001b[0m\u001b[0m\n\u001b[0m\u001b[0;32m     69\u001b[0m \u001b[1;33m\u001b[0m\u001b[0m\n\u001b[0;32m     70\u001b[0m \u001b[1;32mwhile\u001b[0m \u001b[0mt\u001b[0m \u001b[1;33m>\u001b[0m \u001b[1;36m0\u001b[0m \u001b[1;33m:\u001b[0m\u001b[1;33m\u001b[0m\u001b[1;33m\u001b[0m\u001b[0m\n",
      "\u001b[1;31mValueError\u001b[0m: invalid literal for int() with base 10: ''"
     ]
    }
   ],
   "source": [
    "from sys import stdin\n",
    "\n",
    "def sumOfTwoArrays(arr1, n, arr2, m, output) :\n",
    "    #Your code goes here\n",
    "    i = n - 1\n",
    "    j = m - 1\n",
    "    carry = 0\n",
    "    k = max(n, m)\n",
    "    #k is the current index output array \n",
    "    while i >= 0 and j >= 0 :\n",
    "        SUM = arr1[i] + arr2[j] + carry \n",
    "        output[k] = SUM % 10\n",
    "        carry = SUM // 10 \n",
    "        i -= 1 \n",
    "        j -= 1\n",
    "        k -= 1 \n",
    "    while i >= 0 :\n",
    "        SUM = arr1[i] + carry \n",
    "        output[k] = SUM % 10 \n",
    "        carry = SUM // 10 \n",
    "        i -= 1 \n",
    "        k -= 1 \n",
    "    while j >= 0 : \n",
    "        SUM = arr2[j] + carry \n",
    "        output[k] = SUM % 10 \n",
    "        carry = SUM // 10 \n",
    "        j -= 1\n",
    "        k -= 1 \n",
    "\n",
    "\n",
    "\n",
    "\n",
    "\n",
    "\n",
    "\n",
    "\n",
    "\n",
    "\n",
    "\n",
    "\n",
    "\n",
    "\n",
    "\n",
    "\n",
    "\n",
    "\n",
    "\n",
    "\n",
    "#Taking Input Using Fast I/O\n",
    "def takeInput() :\n",
    "    n = int(stdin.readline().rstrip())\n",
    "    if n == 0 :\n",
    "        return list(), 0\n",
    "    \n",
    "    arr = list(map(int, stdin.readline().rstrip().split(\" \")))\n",
    "    return arr, n\n",
    "\n",
    "\n",
    "#to print the arry/list\n",
    "def printList(arr, n) :\n",
    "    for i in range(n) :\n",
    "        print(arr[i], end = \" \")\n",
    "    \n",
    "    print()\n",
    "\n",
    "\n",
    "#main\n",
    "t = int(stdin.readline().rstrip())\n",
    "\n",
    "while t > 0 :\n",
    "    arr1, n = takeInput()\n",
    "    arr2, m = takeInput()\n",
    "    \n",
    "    outputSize = (1 + max(n, m))\n",
    "    output = outputSize * [0]\n",
    "    \n",
    "    sumOfTwoArrays(arr1, n, arr2, m, output)\n",
    "    printList(output, outputSize)\n",
    "    \n",
    "    t -= 1"
   ]
  },
  {
   "cell_type": "code",
   "execution_count": null,
   "id": "12a54dc9",
   "metadata": {},
   "outputs": [],
   "source": [
    "def split_number(num, result):\n",
    " \n",
    "    if num > 0:\n",
    "        split_number(num // 10, result)\n",
    "        result.append(num % 10)\n",
    " \n",
    " \n",
    "# Function to add two lists\n",
    "def append(a, b, result):\n",
    " \n",
    "    m = len(a)\n",
    "    n = len(b)\n",
    " \n",
    "    # loop till either `a` or `b` runs out\n",
    "    i = 0\n",
    "    while i < m and i < n:\n",
    " \n",
    "        # get the sum of the next element from each list\n",
    "        sum = a[i] + b[i]\n",
    " \n",
    "        # separate the digits of the sum and add them to the output list\n",
    "        split_number(sum, result)\n",
    "        i = i + 1\n",
    " \n",
    "    # process remaining elements of the first list, if any\n",
    "    while i < m:\n",
    "        split_number(a[i], result)\n",
    "        i = i + 1\n",
    " \n",
    "    # process remaining elements of the second list, if any\n",
    "    while i < n:\n",
    "        split_number(b[i], result)\n",
    "        i = i + 1"
   ]
  }
 ],
 "metadata": {
  "kernelspec": {
   "display_name": "Python 3 (ipykernel)",
   "language": "python",
   "name": "python3"
  },
  "language_info": {
   "codemirror_mode": {
    "name": "ipython",
    "version": 3
   },
   "file_extension": ".py",
   "mimetype": "text/x-python",
   "name": "python",
   "nbconvert_exporter": "python",
   "pygments_lexer": "ipython3",
   "version": "3.9.7"
  }
 },
 "nbformat": 4,
 "nbformat_minor": 5
}
