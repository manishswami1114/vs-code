{
 "cells": [
  {
   "cell_type": "code",
   "execution_count": 8,
   "id": "318863e6",
   "metadata": {},
   "outputs": [
    {
     "name": "stdout",
     "output_type": "stream",
     "text": [
      "0\n",
      "1\n",
      "4\n",
      "11\n",
      "26\n",
      "57\n",
      "120\n",
      "247\n",
      "502\n",
      "1013\n"
     ]
    }
   ],
   "source": [
    "sum=0\n",
    "for d in range(0,10,1):\n",
    "    sum += sum+d\n",
    "    print(sum)"
   ]
  },
  {
   "cell_type": "code",
   "execution_count": null,
   "id": "44fdaa6e",
   "metadata": {},
   "outputs": [],
   "source": []
  },
  {
   "cell_type": "code",
   "execution_count": 11,
   "id": "587c489f",
   "metadata": {},
   "outputs": [
    {
     "name": "stdout",
     "output_type": "stream",
     "text": [
      "20\n"
     ]
    }
   ],
   "source": [
    "y=0\n",
    "for i in range(0,10,2):\n",
    "    y += i\n",
    "print(y)"
   ]
  },
  {
   "cell_type": "code",
   "execution_count": 17,
   "id": "0a66a0de",
   "metadata": {},
   "outputs": [
    {
     "name": "stdout",
     "output_type": "stream",
     "text": [
      "45\n"
     ]
    }
   ],
   "source": [
    "count=0\n",
    "for i in range(10):\n",
    "    for j in range(i):\n",
    "        count=count+1\n",
    "print(count)"
   ]
  },
  {
   "cell_type": "code",
   "execution_count": null,
   "id": "9960dcfe",
   "metadata": {},
   "outputs": [],
   "source": [
    "balance=10\n",
    "while True:\n",
    "    if balance < 9: print(balance)\n",
    "    balance=balance-9\n",
    "print(balance)"
   ]
  },
  {
   "cell_type": "code",
   "execution_count": null,
   "id": "8dcf1db0",
   "metadata": {},
   "outputs": [],
   "source": [
    "balance=10\n",
    "\n",
    "\n",
    "while True:\n",
    "    if balance < 9: continue\n",
    "        balance=balance-9\n",
    "print(balance)"
   ]
  },
  {
   "cell_type": "code",
   "execution_count": 13,
   "id": "1e4bfca6",
   "metadata": {},
   "outputs": [
    {
     "name": "stdout",
     "output_type": "stream",
     "text": [
      "15\n"
     ]
    }
   ],
   "source": [
    "sum=0\n",
    "items=0\n",
    "while items < 5:\n",
    "    items += 1\n",
    "    sum+=items\n",
    "    if sum >=4: continue\n",
    "print(sum)"
   ]
  },
  {
   "cell_type": "code",
   "execution_count": 1,
   "id": "b6b58cf7",
   "metadata": {},
   "outputs": [
    {
     "name": "stdout",
     "output_type": "stream",
     "text": [
      "6\n"
     ]
    }
   ],
   "source": [
    "number=25\n",
    "isprime=True\n",
    "i=2\n",
    "while i<number and isprime:\n",
    "    if number %i==0:\n",
    "        isprime = False\n",
    "        \n",
    "    i += 1\n",
    "    \n",
    "print(i)"
   ]
  },
  {
   "cell_type": "code",
   "execution_count": 3,
   "id": "73e14d4e",
   "metadata": {},
   "outputs": [
    {
     "name": "stdout",
     "output_type": "stream",
     "text": [
      "<function f at 0x000002392DB288B0>\n"
     ]
    }
   ],
   "source": [
    "def f(p1,p2,p3,p4):\n",
    "    pass\n",
    "print(f)"
   ]
  },
  {
   "cell_type": "code",
   "execution_count": 4,
   "id": "ca3283ca",
   "metadata": {},
   "outputs": [
    {
     "ename": "SyntaxError",
     "evalue": "invalid syntax (Temp/ipykernel_6268/400714199.py, line 1)",
     "output_type": "error",
     "traceback": [
      "\u001b[1;36m  File \u001b[1;32m\"C:\\Users\\HP\\AppData\\Local\\Temp/ipykernel_6268/400714199.py\"\u001b[1;36m, line \u001b[1;32m1\u001b[0m\n\u001b[1;33m    def nprint(\"A massage\",k):\u001b[0m\n\u001b[1;37m               ^\u001b[0m\n\u001b[1;31mSyntaxError\u001b[0m\u001b[1;31m:\u001b[0m invalid syntax\n"
     ]
    }
   ],
   "source": [
    "def nprint(\"A massage\",k):\n",
    "    while n> 0:\n",
    "        print(message)\n",
    "k=2\n",
    "nprint(k,\"A massage\")"
   ]
  },
  {
   "cell_type": "code",
   "execution_count": 11,
   "id": "5ac943c0",
   "metadata": {},
   "outputs": [
    {
     "ename": "SyntaxError",
     "evalue": "invalid syntax (Temp/ipykernel_6268/3777008700.py, line 3)",
     "output_type": "error",
     "traceback": [
      "\u001b[1;36m  File \u001b[1;32m\"C:\\Users\\HP\\AppData\\Local\\Temp/ipykernel_6268/3777008700.py\"\u001b[1;36m, line \u001b[1;32m3\u001b[0m\n\u001b[1;33m    global x=10\u001b[0m\n\u001b[1;37m            ^\u001b[0m\n\u001b[1;31mSyntaxError\u001b[0m\u001b[1;31m:\u001b[0m invalid syntax\n"
     ]
    }
   ],
   "source": [
    "x=1\n",
    "def f1():\n",
    "    global x=10\n",
    "    x=x+2\n",
    "    print(x)\n",
    "f1()\n",
    "print(x)\n",
    "    "
   ]
  },
  {
   "cell_type": "code",
   "execution_count": 16,
   "id": "135e35aa",
   "metadata": {},
   "outputs": [
    {
     "name": "stdout",
     "output_type": "stream",
     "text": [
      "15 5\n"
     ]
    }
   ],
   "source": [
    "def f1(x=1,y=2):\n",
    "    return x+y,x-y    \n",
    "x,y=f1(10,5)\n",
    "print(x,y)"
   ]
  },
  {
   "cell_type": "code",
   "execution_count": 19,
   "id": "69eba6aa",
   "metadata": {},
   "outputs": [],
   "source": [
    "def maxe(arr):\n",
    "     \n",
    "   \n",
    "    r = len(ar)\n",
    "    c = len(ar[0])\n",
    "     \n",
    "    for i in range(r):\n",
    "         \n",
    "        \n",
    "        max1 = 0\n",
    "        for j in range(c):\n",
    "            if ar[i][j] > max1 :\n",
    "                max1 = ar[i][j]\n",
    "                 \n",
    "    print(max1)"
   ]
  },
  {
   "cell_type": "code",
   "execution_count": null,
   "id": "d22504ee",
   "metadata": {},
   "outputs": [],
   "source": [
    "def printDiagonalSums(mat, n):\n",
    " \n",
    "    p = 0\n",
    "    s = 0;\n",
    "    for i in range(0, n):\n",
    "        for j in range(0, n):\n",
    " \n",
    "            if (i == j):\n",
    "                p += mat[i][j]\n",
    " \n",
    "            if ((i + j) == (n - 1)):\n",
    "                s += mat[i][j]\n",
    "         \n",
    "    print( p)\n",
    "    print( S)\n",
    " \n"
   ]
  },
  {
   "cell_type": "code",
   "execution_count": 21,
   "id": "427d13a2",
   "metadata": {},
   "outputs": [],
   "source": [
    "def DiagonalSums(mat, n):\n",
    " \n",
    "    principal = 0\n",
    "    secondary = 0\n",
    "    for i in range(0, n):\n",
    "        principal += mat[i][i]\n",
    "        secondary += mat[i][n - i - 1]\n",
    "         \n",
    "    print(principal)\n",
    "    print(secondary)\n",
    "    \n",
    "    \n",
    "\n",
    "        \n",
    "        "
   ]
  },
  {
   "cell_type": "code",
   "execution_count": 22,
   "id": "49c759fb",
   "metadata": {},
   "outputs": [
    {
     "name": "stdout",
     "output_type": "stream",
     "text": [
      "[1, 2, 3, 4, 5, 6]\n",
      "Rotated list is\n",
      "[3, 4, 5, 6, 1, 2]\n"
     ]
    }
   ],
   "source": [
    "\n",
    "# Python program using the List\n",
    "# slicing approach to rotate the array\n",
    "def rotateList(arr,d,n):\n",
    "  arr[:]=arr[d:n]+arr[0:d]\n",
    "  return arr\n",
    "# Driver function to test above function\n",
    "arr = [1, 2, 3, 4, 5, 6]\n",
    "print(arr)\n",
    "print(\"Rotated list is\")\n",
    "print(rotateList(arr,2,len(arr))) "
   ]
  },
  {
   "cell_type": "code",
   "execution_count": null,
   "id": "c2f6bd6a",
   "metadata": {},
   "outputs": [],
   "source": []
  }
 ],
 "metadata": {
  "kernelspec": {
   "display_name": "Python 3 (ipykernel)",
   "language": "python",
   "name": "python3"
  },
  "language_info": {
   "codemirror_mode": {
    "name": "ipython",
    "version": 3
   },
   "file_extension": ".py",
   "mimetype": "text/x-python",
   "name": "python",
   "nbconvert_exporter": "python",
   "pygments_lexer": "ipython3",
   "version": "3.9.7"
  }
 },
 "nbformat": 4,
 "nbformat_minor": 5
}
