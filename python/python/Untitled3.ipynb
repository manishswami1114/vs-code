{
 "cells": [
  {
   "cell_type": "code",
   "execution_count": 2,
   "id": "db7ac30f",
   "metadata": {},
   "outputs": [
    {
     "ename": "ModuleNotFoundError",
     "evalue": "No module named 'matplotlib'",
     "output_type": "error",
     "traceback": [
      "\u001b[1;31m---------------------------------------------------------------------------\u001b[0m",
      "\u001b[1;31mModuleNotFoundError\u001b[0m                       Traceback (most recent call last)",
      "\u001b[1;32m~\\AppData\\Local\\Temp/ipykernel_9504/2619428739.py\u001b[0m in \u001b[0;36m<module>\u001b[1;34m\u001b[0m\n\u001b[1;32m----> 1\u001b[1;33m \u001b[1;32mimport\u001b[0m \u001b[0mmatplotlib\u001b[0m\u001b[1;33m.\u001b[0m\u001b[0mpyplot\u001b[0m \u001b[1;32mas\u001b[0m \u001b[0mpyplot\u001b[0m\u001b[1;33m\u001b[0m\u001b[1;33m\u001b[0m\u001b[0m\n\u001b[0m\u001b[0;32m      2\u001b[0m \u001b[1;32mimport\u001b[0m \u001b[0mnumpy\u001b[0m \u001b[1;32mas\u001b[0m \u001b[0mnp\u001b[0m\u001b[1;33m\u001b[0m\u001b[1;33m\u001b[0m\u001b[0m\n\u001b[0;32m      3\u001b[0m \u001b[1;33m\u001b[0m\u001b[0m\n\u001b[0;32m      4\u001b[0m \u001b[0mdata\u001b[0m \u001b[1;33m=\u001b[0m \u001b[0mnp\u001b[0m\u001b[1;33m.\u001b[0m\u001b[0marray\u001b[0m\u001b[1;33m(\u001b[0m\u001b[1;33m[\u001b[0m\u001b[1;36m50\u001b[0m\u001b[1;33m,\u001b[0m\u001b[1;36m20\u001b[0m\u001b[1;33m,\u001b[0m\u001b[1;36m10\u001b[0m\u001b[1;33m,\u001b[0m\u001b[1;36m15\u001b[0m\u001b[1;33m,\u001b[0m\u001b[1;36m5\u001b[0m\u001b[1;33m]\u001b[0m\u001b[1;33m)\u001b[0m\u001b[1;33m\u001b[0m\u001b[1;33m\u001b[0m\u001b[0m\n\u001b[0;32m      5\u001b[0m \u001b[0mlabels\u001b[0m \u001b[1;33m=\u001b[0m \u001b[1;33m[\u001b[0m\u001b[1;34m'python'\u001b[0m\u001b[1;33m,\u001b[0m\u001b[1;34m'javaScript'\u001b[0m\u001b[1;33m,\u001b[0m\u001b[1;34m'c#'\u001b[0m\u001b[1;33m,\u001b[0m\u001b[1;34m'java'\u001b[0m\u001b[1;33m,\u001b[0m\u001b[1;34m'PHP'\u001b[0m\u001b[1;33m]\u001b[0m\u001b[1;33m\u001b[0m\u001b[1;33m\u001b[0m\u001b[0m\n",
      "\u001b[1;31mModuleNotFoundError\u001b[0m: No module named 'matplotlib'"
     ]
    }
   ],
   "source": [
    "import matplotlib.pyplot as pyplot\n",
    "import numpy as np\n",
    "\n",
    "data = np.array([50,20,10,15,5])\n",
    "labels = ['python','javaScript','c#','java','PHP']\n",
    "\n",
    "pyplot.pie(data,labels = labels,shadow=True)\n",
    "pyplot.show()\n"
   ]
  },
  {
   "cell_type": "code",
   "execution_count": 1,
   "id": "0c5a1f15",
   "metadata": {},
   "outputs": [
    {
     "name": "stdout",
     "output_type": "stream",
     "text": [
      "12X345-67\n",
      "invalid\n"
     ]
    }
   ],
   "source": [
    "n= input()\n",
    "\n",
    "n = n.upper()\n",
    "\n",
    "if(len(n)==9):\n",
    "\n",
    "   if(n[2]==\"A\" or n[2]==\"E\" or n[2]==\"I\" or n[2]==\"O\" or n[2] ==\"U\" or n[2]==\"Y\"):\n",
    "\n",
    "       print(\"invalid\")\n",
    "\n",
    "   else:\n",
    "\n",
    "       if(n[6]==\"-\"):\n",
    "\n",
    "           if(int(n[0]+n[1])%2==0 and int(n[3]+n[4])%2==0 and int(n[4]+n[5])%2==0 and int(n[7]+n[8])%2==0):\n",
    "\n",
    "               print(\"valid\")\n",
    "\n",
    "           else:\n",
    "\n",
    "               print(\"invalid\")\n",
    "\n",
    "       else:\n",
    "\n",
    "           print(\"invalid\")"
   ]
  },
  {
   "cell_type": "code",
   "execution_count": 15,
   "id": "23f38e3d",
   "metadata": {},
   "outputs": [
    {
     "ename": "ModuleNotFoundError",
     "evalue": "No module named 'cv2'",
     "output_type": "error",
     "traceback": [
      "\u001b[1;31m---------------------------------------------------------------------------\u001b[0m",
      "\u001b[1;31mModuleNotFoundError\u001b[0m                       Traceback (most recent call last)",
      "\u001b[1;32m~\\AppData\\Local\\Temp/ipykernel_2332/3664561427.py\u001b[0m in \u001b[0;36m<module>\u001b[1;34m\u001b[0m\n\u001b[1;32m----> 1\u001b[1;33m \u001b[1;32mimport\u001b[0m \u001b[0mcv2\u001b[0m\u001b[1;33m\u001b[0m\u001b[1;33m\u001b[0m\u001b[0m\n\u001b[0m\u001b[0;32m      2\u001b[0m \u001b[1;32mimport\u001b[0m \u001b[0mnumpy\u001b[0m \u001b[1;32mas\u001b[0m \u001b[0mnp\u001b[0m\u001b[1;33m\u001b[0m\u001b[1;33m\u001b[0m\u001b[0m\n\u001b[0;32m      3\u001b[0m \u001b[1;32mfrom\u001b[0m \u001b[0msklearn\u001b[0m\u001b[1;33m.\u001b[0m\u001b[0mmetrics\u001b[0m \u001b[1;32mimport\u001b[0m \u001b[0mpairwise\u001b[0m\u001b[1;33m\u001b[0m\u001b[1;33m\u001b[0m\u001b[0m\n\u001b[0;32m      4\u001b[0m \u001b[1;33m\u001b[0m\u001b[0m\n\u001b[0;32m      5\u001b[0m \u001b[0mcap\u001b[0m\u001b[1;33m=\u001b[0m\u001b[0mcv2\u001b[0m\u001b[1;33m.\u001b[0m\u001b[0mvideocapture\u001b[0m\u001b[1;33m(\u001b[0m\u001b[1;36m0\u001b[0m\u001b[1;33m)\u001b[0m\u001b[1;33m\u001b[0m\u001b[1;33m\u001b[0m\u001b[0m\n",
      "\u001b[1;31mModuleNotFoundError\u001b[0m: No module named 'cv2'"
     ]
    }
   ],
   "source": [
    "import cv2\n",
    "import numpy as np\n",
    "from sklearn.metrics import pairwise\n",
    "\n",
    "cap=cv2.videocapture(0)\n",
    "#if jiggers are present orther than yellow area\n",
    "kernelOpen = np.ones((5,5))\n",
    "#if jiggers are present in yellow area\n",
    "kernelclose = np.ones((20,20))\n",
    "#HSV colur range which should be detected\n",
    "lb = np.array([20,100,100])\n",
    "ub = np.array([120,255,255])\n",
    "while True:\n",
    "    ret.frame=cap.read()\n",
    "    flipped=cv2.flip(frame,1)\n",
    "    flipped=cv2.resize(flipped,(50,400))\n",
    "\n",
    "#use HSV of yellow to detect only yellow color\n",
    "imgseg=cv2.cvtcolor(frame,cv2.COLOR_BGR2HSV)\n",
    "imgsegFlipped=cv2.flip(imgseg,1)\n",
    "imgsegFlipped=cv2.resize(imgsegFlipped,(500,400))\n",
    "\n",
    "#masking and flitering all shades of yellow\n",
    "mask=cv2.inrange(imgsegFlipped,lb,ub)\n",
    "mask=cv2.resize(mask,(500,400))\n",
    "\n",
    "#apply morphology to avoid jggers\n",
    "maskOpen=cv2.morphologyEx(mask,cv2.HORPH_OPEN,kernelOpen)\n",
    "maskOpen=cv2.resize(maskOpen,(500,400))\n",
    "maskClose=cv2.morphologyEx(maskOpen,cv2.HORPH_OPEN,kernelOpen)\n",
    "maskClose=cv2.resize(maskClose,(500,400))\n",
    "\n",
    "final=maskClose\n",
    "_, conts,h=cv2.findcotours(maskClose,cv2.RETR_EXTERAL,cv2.CHAIN_APPROX_NONE)\n",
    "if(len(counts)!=0): #draws the contours of the object which has the highest\n",
    "    b=max (conts, key=cv2.contourArea)\n",
    "    west=tuple(b[b[:,:,0].argmin()][0])\n",
    "    east=tuple(b[b[:,:,0].argmin()][0]) #above for east i.e right\n",
    "    north=tuple(b[b[:,:,1].argmin()][0])\n",
    "    south=tuple(b[b[:,:,1].argmin()][0])\n",
    "    centre_x=(west[0]+east[0])/2\n",
    "    centre_x=(north[0]+east[0])/2\n",
    "\n",
    "    cv2=drawContours(flipped,b,-1,(0,255,0),3)\n",
    "    cv2.circle(flipped,west,6,(0,0,255),-1)\n",
    "    cv2.circle(flipped,east,6,(0,0,255),-1)\n",
    "    cv2.circle(flipped,north,6,(0,0,255),-1)\n",
    "    cv2.circle(flipped,south,6,(0,0,255),-1)\n",
    "    cv2.circle(flipped,(int(centre_x),int(centre_y)),6,(255,0,0),-1)\n",
    "\n",
    "cv2.imshow('video',flipped)\n",
    "\n",
    "\n",
    "\n",
    "if cv2.waitkey(1) & 0xFF == ord(' '):\n",
    "    break\n",
    "\n",
    "cap.release()\n",
    "cv2.destroyALLWindows()"
   ]
  }
 ],
 "metadata": {
  "kernelspec": {
   "display_name": "Python 3 (ipykernel)",
   "language": "python",
   "name": "python3"
  },
  "language_info": {
   "codemirror_mode": {
    "name": "ipython",
    "version": 3
   },
   "file_extension": ".py",
   "mimetype": "text/x-python",
   "name": "python",
   "nbconvert_exporter": "python",
   "pygments_lexer": "ipython3",
   "version": "3.10.0"
  }
 },
 "nbformat": 4,
 "nbformat_minor": 5
}
